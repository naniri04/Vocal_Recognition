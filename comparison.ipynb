{
 "cells": [
  {
   "cell_type": "code",
   "execution_count": 37,
   "metadata": {},
   "outputs": [],
   "source": [
    "from __future__ import annotations\n",
    "import numpy as np\n",
    "import matplotlib.pyplot as plt\n",
    "\n",
    "VOWEL = {'a', 'i', 'e', 'o', 'u', 'y'}\n",
    "EXC_CSN = {'ch', 'sh', 'ts'}\n",
    "SIMILAR_CSN = [\n",
    "    {'b', 'f', 'p', 'v'},\n",
    "    {'c', 'g', 'k'},\n",
    "    {'d', 't'},\n",
    "    {'l'},\n",
    "    {'m', 'n'},\n",
    "    {'r'},\n",
    "    {'s', 'sh', 'ts', 'z', 'x'},\n",
    "    {'w'},\n",
    "    {'h'},\n",
    "    {'ch', 'j'},\n",
    "    {''}\n",
    "]\n",
    "csn_sep = {}\n",
    "for idx, ks in enumerate(SIMILAR_CSN):\n",
    "    for k in ks: csn_sep[k] = idx"
   ]
  },
  {
   "cell_type": "code",
   "execution_count": 28,
   "metadata": {},
   "outputs": [],
   "source": [
    "def division(s:str):\n",
    "    for i in range(len(s)):\n",
    "        if s[i] in VOWEL:\n",
    "            return s[:i], s[i:]\n",
    "    return s, '0'"
   ]
  },
  {
   "cell_type": "code",
   "execution_count": 3,
   "metadata": {},
   "outputs": [],
   "source": [
    "class Syllable:\n",
    "    def __init__(self, rom:str, jap:str=None) -> None:\n",
    "        self.consonant, self.vowel = division(rom)\n",
    "        self.rom = rom\n",
    "        self.jap = jap\n",
    "    \n",
    "    def sim(self, other:Syllable) -> float:\n",
    "        score = 0\n",
    "        # consonant\n",
    "        if self.consonant == other.consonant: score += 0.5\n",
    "        elif csn_sep[self.consonant] == csn_sep[other.consonant]: score += 0.25\n",
    "        # vowel\n",
    "        if self.vowel == other.vowel: score += 0.5\n",
    "        elif self.vowel[0] == other.vowel[0]: score += 0.25\n",
    "        #\n",
    "        return score\n",
    "        \n",
    "    def __repr__(self) -> str:\n",
    "        return self.rom"
   ]
  },
  {
   "cell_type": "code",
   "execution_count": 4,
   "metadata": {},
   "outputs": [],
   "source": [
    "def seperation(sentence:str) -> list[Syllable]:\n",
    "    sentence = sentence.replace(' ', '')\n",
    "    sl = []; prev = [0]; flag = 0\n",
    "    def ap(idx):\n",
    "        sl.append(Syllable(sentence[prev[0]:idx]))\n",
    "        prev[0] = idx\n",
    "    def ex_check(ch, idx):\n",
    "        return (ch == 't' and sentence[idx] == 's') or \\\n",
    "        (ch == 'c' and sentence[idx] == 'h') or (ch == 's' and sentence[idx] == 'h')\n",
    "    \n",
    "    for idx, ch in enumerate(sentence, start=1):\n",
    "        # print(flag, ch)\n",
    "        if flag == 1:\n",
    "            flag = 0; ap(idx); continue\n",
    "        elif flag == 2:\n",
    "            flag = 0; continue\n",
    "        #\n",
    "        if ch in VOWEL:\n",
    "            if ch == 'y': flag = 1\n",
    "            else: ap(idx)\n",
    "        else:\n",
    "            if flag == 3:\n",
    "                flag = 0; ap(idx-1)\n",
    "            #\n",
    "            if ex_check(ch, idx): flag = 2\n",
    "            else: flag = 3; continue\n",
    "        \n",
    "        if flag == 3: flag = 0\n",
    "    \n",
    "    if flag == 3:\n",
    "        ap(len(sentence))\n",
    "    \n",
    "    return sl"
   ]
  },
  {
   "cell_type": "code",
   "execution_count": 34,
   "metadata": {},
   "outputs": [],
   "source": [
    "def similarity_matrix(original, generated):\n",
    "    def first_eq(x, y): return x[0] == y[0]\n",
    "\n",
    "    org, gen = seperation(original), seperation(generated)\n",
    "    csn_get = np.vectorize(csn_sep.get)\n",
    "    matgen = lambda x, y, b: \\\n",
    "        np.array([np.tile(sy.consonant if b else sy.vowel, len(y)) for sy in x])\n",
    "    org_csn_mat, org_vwl_mat = matgen(org, gen, True), matgen(org, gen, False)\n",
    "    gen_csn_mat, gen_vwl_mat = matgen(gen, org, True).T, matgen(gen, org, False).T\n",
    "\n",
    "    csn_eq = (org_csn_mat == gen_csn_mat).astype(int) * 0.5\n",
    "    csn_sim = (csn_get(org_csn_mat) == csn_get(gen_csn_mat)).astype(int) * 0.25\n",
    "    vwl_eq = (org_vwl_mat == gen_vwl_mat).astype(int) * 0.5\n",
    "    vwl_sim = (np.vectorize(first_eq)(org_vwl_mat, gen_vwl_mat)).astype(int) * 0.25\n",
    "    score_mat = np.maximum(csn_eq, csn_sim) + np.maximum(vwl_eq, vwl_sim)\n",
    "    \n",
    "    return score_mat"
   ]
  },
  {
   "cell_type": "code",
   "execution_count": 52,
   "metadata": {},
   "outputs": [],
   "source": [
    "m = similarity_matrix(\\\n",
    "'zenbuzenbumudajanakattatteiukara', \n",
    "'zenbu zenbu miidasenakatta tte yuukara')"
   ]
  },
  {
   "cell_type": "code",
   "execution_count": 53,
   "metadata": {},
   "outputs": [
    {
     "data": {
      "image/png": "[encoded data removed]",
      "text/plain": [
       "<Figure size 640x480 with 2 Axes>"
      ]
     },
     "metadata": {},
     "output_type": "display_data"
    }
   ],
   "source": [
    "plt.imshow(m, cmap='hot', interpolation='nearest')\n",
    "plt.colorbar()\n",
    "plt.title('Heatmap')\n",
    "plt.xticks(np.arange(0, m.shape[1], 4))\n",
    "plt.yticks(np.arange(0, m.shape[0], 4))\n",
    "plt.show()"
   ]
  },
  {
   "cell_type": "code",
   "execution_count": 42,
   "metadata": {},
   "outputs": [
    {
     "data": {
      "text/plain": [
       "[sho, u]"
      ]
     },
     "execution_count": 42,
     "metadata": {},
     "output_type": "execute_result"
    }
   ],
   "source": [
    "seperation('shou')"
   ]
  },
  {
   "cell_type": "code",
   "execution_count": 16,
   "metadata": {},
   "outputs": [
    {
     "data": {
      "text/plain": [
       "'0x3044'"
      ]
     },
     "execution_count": 16,
     "metadata": {},
     "output_type": "execute_result"
    }
   ],
   "source": [
    "hex(ord('い'))"
   ]
  }
 ],
 "metadata": {
  "kernelspec": {
   "display_name": "vocal",
   "language": "python",
   "name": "python3"
  },
  "language_info": {
   "codemirror_mode": {
    "name": "ipython",
    "version": 3
   },
   "file_extension": ".py",
   "mimetype": "text/x-python",
   "name": "python",
   "nbconvert_exporter": "python",
   "pygments_lexer": "ipython3",
   "version": "3.9.19"
  }
 },
 "nbformat": 4,
 "nbformat_minor": 2
}
