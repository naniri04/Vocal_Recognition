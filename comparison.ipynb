{
 "cells": [
  {
   "cell_type": "code",
   "execution_count": 3,
   "metadata": {},
   "outputs": [],
   "source": [
    "from __future__ import annotations\n",
    "import numpy as np\n",
    "import matplotlib.pyplot as plt\n",
    "\n",
    "VOWEL = {'a', 'i', 'e', 'o', 'u', 'y'}\n",
    "EXC_CSN = {'ch', 'sh', 'ts'}\n",
    "SIMILAR_CSN = [\n",
    "    {'b', 'f', 'p', 'v'},\n",
    "    {'c', 'g', 'k'},\n",
    "    {'d', 't'},\n",
    "    {'l'},\n",
    "    {'m', 'n'},\n",
    "    {'r'},\n",
    "    {'s', 'sh', 'ts', 'z', 'x'},\n",
    "    {'w'},\n",
    "    {'h'},\n",
    "    {'ch', 'j'},\n",
    "    {''}\n",
    "]\n",
    "csn_sep = {}\n",
    "for idx, ks in enumerate(SIMILAR_CSN):\n",
    "    for k in ks: csn_sep[k] = idx"
   ]
  },
  {
   "cell_type": "code",
   "execution_count": 4,
   "metadata": {},
   "outputs": [],
   "source": [
    "def division(s:str):\n",
    "    for i in range(len(s)):\n",
    "        if s[i] in VOWEL:\n",
    "            return s[:i], s[i:]\n",
    "    return s, '0'"
   ]
  },
  {
   "cell_type": "code",
   "execution_count": 5,
   "metadata": {},
   "outputs": [],
   "source": [
    "class Syllable:\n",
    "    def __init__(self, rom:str, jap:str=None) -> None:\n",
    "        self.consonant, self.vowel = division(rom)\n",
    "        self.rom = rom\n",
    "        self.jap = jap\n",
    "    \n",
    "    def sim(self, other:Syllable) -> float:\n",
    "        score = 0\n",
    "        # consonant\n",
    "        if self.consonant == other.consonant: score += 0.5\n",
    "        elif csn_sep[self.consonant] == csn_sep[other.consonant]: score += 0.25\n",
    "        # vowel\n",
    "        if self.vowel == other.vowel: score += 0.5\n",
    "        elif self.vowel[0] == other.vowel[0]: score += 0.25\n",
    "        #\n",
    "        return score\n",
    "        \n",
    "    def __repr__(self) -> str:\n",
    "        return self.rom"
   ]
  },
  {
   "cell_type": "code",
   "execution_count": 6,
   "metadata": {},
   "outputs": [],
   "source": [
    "def seperation(sentence:str) -> list[Syllable]:\n",
    "    sentence = sentence.replace(' ', '')\n",
    "    sl = []; prev = [0]; flag = 0\n",
    "    def ap(idx):\n",
    "        sl.append(Syllable(sentence[prev[0]:idx]))\n",
    "        prev[0] = idx\n",
    "    def ex_check(ch, idx):\n",
    "        return (ch == 't' and sentence[idx] == 's') or \\\n",
    "        (ch == 'c' and sentence[idx] == 'h') or (ch == 's' and sentence[idx] == 'h')\n",
    "    \n",
    "    for idx, ch in enumerate(sentence, start=1):\n",
    "        # print(flag, ch)\n",
    "        if flag == 1:\n",
    "            flag = 0; ap(idx); continue\n",
    "        elif flag == 2:\n",
    "            flag = 0; continue\n",
    "        #\n",
    "        if ch in VOWEL:\n",
    "            if ch == 'y': flag = 1\n",
    "            else: ap(idx)\n",
    "        else:\n",
    "            if flag == 3:\n",
    "                flag = 0; ap(idx-1)\n",
    "            #\n",
    "            if ex_check(ch, idx): flag = 2\n",
    "            else: flag = 3; continue\n",
    "        \n",
    "        if flag == 3: flag = 0\n",
    "    \n",
    "    if flag == 3:\n",
    "        ap(len(sentence))\n",
    "    \n",
    "    return sl"
   ]
  },
  {
   "cell_type": "code",
   "execution_count": 7,
   "metadata": {},
   "outputs": [],
   "source": [
    "def similarity_matrix(original, generated) -> np.ndarray:\n",
    "    def first_eq(x, y): return x[0] == y[0]\n",
    "\n",
    "    org, gen = seperation(original), seperation(generated)\n",
    "    csn_get = np.vectorize(csn_sep.get)\n",
    "    matgen = lambda x, y, b: \\\n",
    "        np.array([np.tile(sy.consonant if b else sy.vowel, len(y)) for sy in x])\n",
    "    org_csn_mat, org_vwl_mat = matgen(org, gen, True), matgen(org, gen, False)\n",
    "    gen_csn_mat, gen_vwl_mat = matgen(gen, org, True).T, matgen(gen, org, False).T\n",
    "\n",
    "    csn_eq = (org_csn_mat == gen_csn_mat).astype(int) * 0.5\n",
    "    csn_sim = (csn_get(org_csn_mat) == csn_get(gen_csn_mat)).astype(int) * 0.25\n",
    "    vwl_eq = (org_vwl_mat == gen_vwl_mat).astype(int) * 0.5\n",
    "    vwl_sim = (np.vectorize(first_eq)(org_vwl_mat, gen_vwl_mat)).astype(int) * 0.25\n",
    "    score_mat = np.maximum(csn_eq, csn_sim) + np.maximum(vwl_eq, vwl_sim)\n",
    "    \n",
    "    return score_mat"
   ]
  },
  {
   "cell_type": "code",
   "execution_count": 44,
   "metadata": {},
   "outputs": [],
   "source": [
    "m = similarity_matrix(\\\n",
    "'itteanonewatashijitsuhakiduiterunohorakimigaittakoto', \n",
    "'ano ne watakushi jitsu wa kizutsuiteru n dakedo horakun ga itta koto')"
   ]
  },
  {
   "cell_type": "code",
   "execution_count": 42,
   "metadata": {},
   "outputs": [],
   "source": [
    "def mat_heatmap(mat, points=None):\n",
    "    plt.imshow(mat, cmap='hot', interpolation='nearest')\n",
    "    plt.colorbar()\n",
    "    plt.title('Heatmap')\n",
    "    plt.xticks(np.arange(0, mat.shape[1], 4))\n",
    "    plt.yticks(np.arange(0, mat.shape[0], 4))\n",
    "    c, r = zip(points)\n",
    "    if points: plt.scatter(r, c, s=20/min(len(c), len(r)))\n",
    "    plt.show()"
   ]
  },
  {
   "cell_type": "code",
   "execution_count": 42,
   "metadata": {},
   "outputs": [
    {
     "data": {
      "text/plain": [
       "[sho, u]"
      ]
     },
     "execution_count": 42,
     "metadata": {},
     "output_type": "execute_result"
    }
   ],
   "source": [
    "seperation('shou')"
   ]
  },
  {
   "cell_type": "code",
   "execution_count": 16,
   "metadata": {},
   "outputs": [
    {
     "data": {
      "text/plain": [
       "'0x3044'"
      ]
     },
     "execution_count": 16,
     "metadata": {},
     "output_type": "execute_result"
    }
   ],
   "source": [
    "hex(ord('い'))"
   ]
  },
  {
   "cell_type": "code",
   "execution_count": 51,
   "metadata": {},
   "outputs": [],
   "source": [
    "# AI generated DP algo\n",
    "def max_path_sum_any_start_end(matrix):\n",
    "    if not matrix.size:\n",
    "        return 0, []\n",
    "\n",
    "    n, m = matrix.shape\n",
    "    print(n, 'x', m)\n",
    "\n",
    "    max_sum = float('-inf')\n",
    "    max_path = []\n",
    "\n",
    "    def find_max_path(dp, path, start_i, start_j):\n",
    "        for i in range(start_i, n):\n",
    "            for j in range(start_j, m):\n",
    "                # 오른쪽으로 이동\n",
    "                if j + 1 < m:\n",
    "                    if dp[i, j] + matrix[i, j + 1] - 0.3 > dp[i, j + 1]:\n",
    "                        dp[i, j + 1] = dp[i, j] + matrix[i, j + 1] - 0.3\n",
    "                        path[i][j + 1] = path[i][j] + [(i, j + 1)]\n",
    "                # 아래로 이동\n",
    "                if i + 1 < n:\n",
    "                    if dp[i, j] + matrix[i + 1, j] - 0.3 > dp[i + 1, j]:\n",
    "                        dp[i + 1, j] = dp[i, j] + matrix[i + 1, j] - 0.3\n",
    "                        path[i + 1][j] = path[i][j] + [(i + 1, j)]\n",
    "                # 대각선 아래 오른쪽으로 이동\n",
    "                if i + 1 < n and j + 1 < m:\n",
    "                    if dp[i, j] + matrix[i + 1, j + 1] > dp[i + 1, j + 1]:\n",
    "                        dp[i + 1, j + 1] = dp[i, j] + matrix[i + 1, j + 1]\n",
    "                        path[i + 1][j + 1] = path[i][j] + [(i + 1, j + 1)]\n",
    "        return dp, path\n",
    "\n",
    "    # 행이 0인 모든 점을 시작점으로 설정\n",
    "    for j in range(m):\n",
    "        dp = np.full((n, m), -np.inf)\n",
    "        path = [[[] for _ in range(m)] for _ in range(n)]\n",
    "        dp[0, j] = matrix[0, j]\n",
    "        path[0][j] = [(0, j)]\n",
    "        dp, path = find_max_path(dp, path, 0, j)\n",
    "\n",
    "        # 경계 조건에서 최대 경로 합과 경로를 갱신\n",
    "        for i in range(n):\n",
    "            if dp[i, m - 1] > max_sum:\n",
    "                max_sum = dp[i, m - 1]\n",
    "                max_path = path[i][m - 1]\n",
    "\n",
    "    # 열이 0인 모든 점을 시작점으로 설정\n",
    "    for i in range(n):\n",
    "        dp = np.full((n, m), -np.inf)\n",
    "        path = [[[] for _ in range(m)] for _ in range(n)]\n",
    "        dp[i, 0] = matrix[i, 0]\n",
    "        path[i][0] = [(i, 0)]\n",
    "        dp, path = find_max_path(dp, path, i, 0)\n",
    "\n",
    "        # 경계 조건에서 최대 경로 합과 경로를 갱신\n",
    "        for j in range(m):\n",
    "            if dp[n - 1, j] > max_sum:\n",
    "                max_sum = dp[n - 1, j]\n",
    "                max_path = path[n - 1][j]\n",
    "\n",
    "    print(\"Maximum path sum:\", max_sum)\n",
    "    print(\"Accuracy: \", max_sum / min(*matrix.shape))\n",
    "    print(\"Path:\", max_path)\n",
    "\n",
    "    return max_sum, max_path"
   ]
  },
  {
   "cell_type": "code",
   "execution_count": 52,
   "metadata": {},
   "outputs": [
    {
     "name": "stdout",
     "output_type": "stream",
     "text": [
      "28 x 30\n",
      "Maximum path sum: 21.749999999999996\n",
      "Accuracy:  0.7767857142857142\n",
      "Path: [(3, 0), (4, 1), (5, 2), (6, 3), (7, 4), (7, 5), (8, 6), (9, 7), (10, 8), (11, 9), (12, 10), (13, 11), (13, 12), (14, 13), (15, 14), (16, 15), (17, 16), (17, 17), (17, 18), (17, 19), (18, 20), (19, 21), (20, 22), (21, 23), (22, 24), (23, 25), (24, 26), (25, 27), (26, 28), (27, 29)]\n"
     ]
    }
   ],
   "source": [
    "max_sum, max_path = max_path_sum_any_start_end(m)"
   ]
  },
  {
   "cell_type": "code",
   "execution_count": 53,
   "metadata": {},
   "outputs": [
    {
     "data": {
      "image/png": "[encoded data removed]",
      "text/plain": [
       "<Figure size 640x480 with 2 Axes>"
      ]
     },
     "metadata": {},
     "output_type": "display_data"
    }
   ],
   "source": [
    "mat_heatmap(mat=m, points=zip(*max_path))"
   ]
  },
  {
   "cell_type": "code",
   "execution_count": 1,
   "metadata": {},
   "outputs": [
    {
     "data": {
      "text/plain": [
       "[ho, o, mu]"
      ]
     },
     "execution_count": 1,
     "metadata": {},
     "output_type": "execute_result"
    }
   ],
   "source": [
    "import comparison as cp\n",
    "cp.seperation(\"hoーmu\")"
   ]
  }
 ],
 "metadata": {
  "kernelspec": {
   "display_name": "vocal",
   "language": "python",
   "name": "python3"
  },
  "language_info": {
   "codemirror_mode": {
    "name": "ipython",
    "version": 3
   },
   "file_extension": ".py",
   "mimetype": "text/x-python",
   "name": "python",
   "nbconvert_exporter": "python",
   "pygments_lexer": "ipython3",
   "version": "3.9.19"
  }
 },
 "nbformat": 4,
 "nbformat_minor": 2
}
