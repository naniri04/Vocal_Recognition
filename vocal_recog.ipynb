{
 "cells": [
  {
   "cell_type": "code",
   "execution_count": 1,
   "metadata": {},
   "outputs": [],
   "source": [
    "import os\n",
    "from googletrans import Translator\n",
    "import whisper\n",
    "from pytube import YouTube\n",
    "from pydub import AudioSegment\n",
    "import cutlet\n",
    "from lyrics_scrap import scrap\n",
    "import pickle\n",
    "from pathlib import Path"
   ]
  },
  {
   "cell_type": "code",
   "execution_count": 3,
   "metadata": {},
   "outputs": [
    {
     "data": {
      "text/plain": [
       "'Shashin'"
      ]
     },
     "execution_count": 3,
     "metadata": {},
     "output_type": "execute_result"
    }
   ],
   "source": [
    "katsu = cutlet.Cutlet(use_foreign_spelling=False)\n",
    "katsu.romaji(\"写真\")"
   ]
  },
  {
   "cell_type": "code",
   "execution_count": 10,
   "metadata": {},
   "outputs": [],
   "source": [
    "song_info = [\n",
    "    ('藍二乗', 'ヨルシカ'), \n",
    "    ('言って', 'ヨルシカ')\n",
    "]\n",
    "song_idx = 1"
   ]
  },
  {
   "cell_type": "code",
   "execution_count": 7,
   "metadata": {},
   "outputs": [
    {
     "name": "stdout",
     "output_type": "stream",
     "text": [
      "saving lyrics for 言って\n",
      "saving mp3 for 言って\n"
     ]
    }
   ],
   "source": [
    "def save_mp3(video_url, folder_path, song_name):\n",
    "    print(f\"saving mp3 for {song_name}\")\n",
    "    yt = YouTube(video_url)\n",
    "    aud = yt.streams.filter(only_audio=True).first()\n",
    "    temp = aud.download(filename='temp_audio.mp3')\n",
    "    audio = AudioSegment.from_file(temp)\n",
    "    audio.export(f\"{folder_path}/{song_name}.mp3\", format='mp3')\n",
    "    os.remove(temp)\n",
    "    \n",
    "def save_lyrics(song_name, song_composer, folderpath) -> str:\n",
    "    print(f\"saving lyrics for {song_name}\")\n",
    "    lyrics, yt_link = scrap(song_name, song_composer)\n",
    "    with open(f\"{folderpath}/{song_name}.pickle\", 'wb') as fw:\n",
    "        pickle.dump(lyrics, fw)\n",
    "    return yt_link\n",
    "\n",
    "targ_path = '../../mfvr/target'\n",
    "file_names = [f.name for f in Path(targ_path).iterdir() if f.is_file()]\n",
    "for name, composer in song_info:\n",
    "    if f\"{name}.pickle\" not in file_names: \n",
    "        link = save_lyrics(name, composer, targ_path)\n",
    "        save_mp3(link, targ_path, name)  \n",
    "        \n",
    "# with open(f\"{targ_path}/{song_info[song_idx][0]}.pickle\", 'rb') as fr:\n",
    "#     ly = pickle.load(fr)"
   ]
  },
  {
   "cell_type": "code",
   "execution_count": 8,
   "metadata": {},
   "outputs": [],
   "source": [
    "def rgbtxt(trgb=None, brgb=None, text=\"Default text\"):\n",
    "    tt = \"\" if trgb==None else f\"\\033[38;2;{trgb[0]};{trgb[1]};{trgb[2]}m\"\n",
    "    bt = \"\" if brgb==None else f\"\\033[48;2;{brgb[0]};{brgb[1]};{brgb[2]}m\"\n",
    "    return f\"{tt}{bt}{text}\\033[0m\""
   ]
  },
  {
   "cell_type": "code",
   "execution_count": 11,
   "metadata": {},
   "outputs": [
    {
     "name": "stderr",
     "output_type": "stream",
     "text": [
      "c:\\Users\\naniri\\anaconda3\\envs\\vocal\\lib\\site-packages\\whisper\\timing.py:42: UserWarning: Failed to launch Triton kernels, likely due to missing CUDA toolkit; falling back to a slower median kernel implementation...\n",
      "  warnings.warn(\n",
      "c:\\Users\\naniri\\anaconda3\\envs\\vocal\\lib\\site-packages\\whisper\\timing.py:146: UserWarning: Failed to launch Triton kernels, likely due to missing CUDA toolkit; falling back to a slower DTW implementation...\n",
      "  warnings.warn(\n",
      "c:\\Users\\naniri\\anaconda3\\envs\\vocal\\lib\\site-packages\\whisper\\timing.py:42: UserWarning: Failed to launch Triton kernels, likely due to missing CUDA toolkit; falling back to a slower median kernel implementation...\n",
      "  warnings.warn(\n",
      "c:\\Users\\naniri\\anaconda3\\envs\\vocal\\lib\\site-packages\\whisper\\timing.py:146: UserWarning: Failed to launch Triton kernels, likely due to missing CUDA toolkit; falling back to a slower DTW implementation...\n",
      "  warnings.warn(\n"
     ]
    }
   ],
   "source": [
    "def whispering(audio_path, song_name):\n",
    "    arg = dict(word_timestamps=True, condition_on_previous_text=False\n",
    "               , language=\"Japanese\"\n",
    "               , initial_prompt=f\"Song name is {song_name}.\")\n",
    "    model = whisper.load_model(\"medium\")\n",
    "    result = model.transcribe(audio_path, **arg)\n",
    "    return result\n",
    "\n",
    "rdict = whispering(f\"{targ_path}/{song_info[song_idx][0]}.mp3\", song_info[song_idx][0])"
   ]
  },
  {
   "cell_type": "code",
   "execution_count": null,
   "metadata": {},
   "outputs": [],
   "source": [
    "rdict['segments']"
   ]
  },
  {
   "cell_type": "code",
   "execution_count": 12,
   "metadata": {},
   "outputs": [
    {
     "name": "stdout",
     "output_type": "stream",
     "text": [
      "['Ano ne watakushi jitsu wa kizutsuiteru n dakedo', '', '', '', 'Horakun ga itta koto', 'Amai', 'Kangaetai to omoenakute', 'Wasureteta n dakedo', 'Moumokuteki ni mousouteki ni mousouteki ni ikite', 'Shoudouteki na shousouteki na shoukyokuteki na mama ja dame datta n da', 'Kitto', 'Jinsei saikou no hi wo mae ni omou no darou', 'Zenbu zenbu itai no desukedo', 'Aa, itsu ka', 'Jinsei saikou no hi', 'Kimi ga inai koto wo', 'Motto motto motto', 'Motto chanto itte', '[uta]', 'Ano ne', 'Sora ga aoi no tte dou yatte', 'Tsutaereba ii n darou ne', 'Yoru no kumo ga takai no tte dou sureba', 'Kimi mo wakaru n darou itte', 'Ano ne watakushi jitsu wa wakatteru no mou kimi ga itta koto', 'Ano ne wakarazu yatte iu n darou ne wasuretai n dakedo', 'Motto chanto itte yo wasurenai yo memo ni shite yo', 'Asu 10 ji ni hoomu de machiawase to ka shiyou', 'Utau wa jitte mo hana da', 'Natsu ga satte mo suiboku wa setsu na', 'Kuchi ni dashite', 'Koi ni dashite', 'Kimi ga itte', 'Soshite jinsei saikou no hi', 'Kimi ga mieru no nara', 'Kitto jinsei saigo no hi mo ai wo utau no darou', 'Zenbu zenbu miidasenakatta tte yuukara', 'Aa itsu ka jinsei saigo no hi', 'Kimi mitai nai koto ga mada shinjirarenaikedo', 'Motto motto motto', 'Motto motto motto', 'Kimi ga motto motto motto motto motto', 'Chanto itte']\n"
     ]
    }
   ],
   "source": [
    "def text_to_romaji(lyrics):\n",
    "    katsu = cutlet.Cutlet(use_foreign_spelling=False); l = []\n",
    "    for phrase in lyrics:\n",
    "        l.append(katsu.romaji(phrase['text']))\n",
    "    return l\n",
    "\n",
    "romaji_list = text_to_romaji(rdict['segments'])\n",
    "print(romaji_list)"
   ]
  },
  {
   "cell_type": "code",
   "execution_count": 13,
   "metadata": {},
   "outputs": [
    {
     "name": "stdout",
     "output_type": "stream",
     "text": [
      "\u001b[38;2;0;0;0m\u001b[48;2;255;14;14mあの\u001b[0m\u001b[38;2;0;0;0m\u001b[48;2;255;240;240mね\u001b[0m\u001b[38;2;0;0;0m\u001b[48;2;255;199;199m 私\u001b[0m\u001b[38;2;0;0;0m\u001b[48;2;255;253;253m 実\u001b[0m\u001b[38;2;0;0;0m\u001b[48;2;255;254;254mは\u001b[0m\u001b[38;2;0;0;0m\u001b[48;2;255;217;217m傷\u001b[0m\u001b[38;2;0;0;0m\u001b[48;2;255;127;127mつ\u001b[0m\u001b[38;2;0;0;0m\u001b[48;2;255;95;95mいて\u001b[0m\u001b[38;2;0;0;0m\u001b[48;2;255;53;53mる\u001b[0m\u001b[38;2;0;0;0m\u001b[48;2;255;41;41mんだ\u001b[0m\u001b[38;2;0;0;0m\u001b[48;2;255;88;88mけど\u001b[0m\n",
      "Ano ne watakushi jitsu wa kizutsuiteru n dakedo\n",
      "\n",
      "\n",
      "\n",
      "\n",
      "\n",
      "\n",
      "\u001b[38;2;0;0;0m\u001b[48;2;255;122;122mほ\u001b[0m\u001b[38;2;0;0;0m\u001b[48;2;255;250;250mら\u001b[0m\u001b[38;2;0;0;0m\u001b[48;2;255;103;103m君\u001b[0m\u001b[38;2;0;0;0m\u001b[48;2;255;252;252mが\u001b[0m\u001b[38;2;0;0;0m\u001b[48;2;255;240;240m言\u001b[0m\u001b[38;2;0;0;0m\u001b[48;2;255;254;254mった\u001b[0m\u001b[38;2;0;0;0m\u001b[48;2;255;217;217mこと\u001b[0m\n",
      "Horakun ga itta koto\n",
      "\u001b[38;2;0;0;0m\u001b[48;2;255;250;250m甘\u001b[0m\u001b[38;2;0;0;0m\u001b[48;2;255;253;253mい\u001b[0m\n",
      "Amai\n",
      "\u001b[38;2;0;0;0m\u001b[48;2;255;62;62m考\u001b[0m\u001b[38;2;0;0;0m\u001b[48;2;255;252;252mえ\u001b[0m\u001b[38;2;0;0;0m\u001b[48;2;255;249;249mたい\u001b[0m\u001b[38;2;0;0;0m\u001b[48;2;255;226;226mと思\u001b[0m\u001b[38;2;0;0;0m\u001b[48;2;255;248;248mえ\u001b[0m\u001b[38;2;0;0;0m\u001b[48;2;255;254;254mなく\u001b[0m\u001b[38;2;0;0;0m\u001b[48;2;255;254;254mて\u001b[0m\n",
      "Kangaetai to omoenakute\n",
      "\u001b[38;2;0;0;0m\u001b[48;2;255;240;240m忘\u001b[0m\u001b[38;2;0;0;0m\u001b[48;2;255;253;253mれて\u001b[0m\u001b[38;2;0;0;0m\u001b[48;2;255;240;240mた\u001b[0m\u001b[38;2;0;0;0m\u001b[48;2;255;253;253mんだ\u001b[0m\u001b[38;2;0;0;0m\u001b[48;2;255;254;254mけど\u001b[0m\n",
      "Wasureteta n dakedo\n",
      "\u001b[38;2;0;0;0m\u001b[48;2;255;252;252m盲\u001b[0m\u001b[38;2;0;0;0m\u001b[48;2;255;254;254m目\u001b[0m\u001b[38;2;0;0;0m\u001b[48;2;255;254;254m的\u001b[0m\u001b[38;2;0;0;0m\u001b[48;2;255;254;254mに\u001b[0m\u001b[38;2;0;0;0m\u001b[48;2;255;177;177m 妄\u001b[0m\u001b[38;2;0;0;0m\u001b[48;2;255;197;197m想\u001b[0m\u001b[38;2;0;0;0m\u001b[48;2;255;254;254m的\u001b[0m\u001b[38;2;0;0;0m\u001b[48;2;255;254;254mに\u001b[0m\u001b[38;2;0;0;0m\u001b[48;2;255;252;252m 妄\u001b[0m\u001b[38;2;0;0;0m\u001b[48;2;255;254;254m想\u001b[0m\u001b[38;2;0;0;0m\u001b[48;2;255;254;254m的\u001b[0m\u001b[38;2;0;0;0m\u001b[48;2;255;254;254mに\u001b[0m\u001b[38;2;0;0;0m\u001b[48;2;255;196;196m 生\u001b[0m\u001b[38;2;0;0;0m\u001b[48;2;255;253;253mき\u001b[0m\u001b[38;2;0;0;0m\u001b[48;2;255;254;254mて\u001b[0m\n",
      "Moumokuteki ni mousouteki ni mousouteki ni ikite\n",
      "\u001b[38;2;0;0;0m\u001b[48;2;255;249;249m衝\u001b[0m\u001b[38;2;0;0;0m\u001b[48;2;255;250;250m動\u001b[0m\u001b[38;2;0;0;0m\u001b[48;2;255;254;254m的\u001b[0m\u001b[38;2;0;0;0m\u001b[48;2;255;242;242mな\u001b[0m\u001b[38;2;0;0;0m\u001b[48;2;255;247;247m 焦\u001b[0m\u001b[38;2;0;0;0m\u001b[48;2;255;252;252m燥\u001b[0m\u001b[38;2;0;0;0m\u001b[48;2;255;254;254m的\u001b[0m\u001b[38;2;0;0;0m\u001b[48;2;255;253;253mな\u001b[0m\u001b[38;2;0;0;0m\u001b[48;2;255;189;189m 消\u001b[0m\u001b[38;2;0;0;0m\u001b[48;2;255;250;250m極\u001b[0m\u001b[38;2;0;0;0m\u001b[48;2;255;254;254m的\u001b[0m\u001b[38;2;0;0;0m\u001b[48;2;255;251;251mな\u001b[0m\u001b[38;2;0;0;0m\u001b[48;2;255;202;202mま\u001b[0m\u001b[38;2;0;0;0m\u001b[48;2;255;249;249mま\u001b[0m\u001b[38;2;0;0;0m\u001b[48;2;255;252;252mじゃ\u001b[0m\u001b[38;2;0;0;0m\u001b[48;2;255;137;137m ダ\u001b[0m\u001b[38;2;0;0;0m\u001b[48;2;255;254;254mメ\u001b[0m\u001b[38;2;0;0;0m\u001b[48;2;255;252;252mだ\u001b[0m\u001b[38;2;0;0;0m\u001b[48;2;255;254;254mった\u001b[0m\u001b[38;2;0;0;0m\u001b[48;2;255;253;253mんだ\u001b[0m\n",
      "Shoudouteki na shousouteki na shoukyokuteki na mama ja dame datta n da\n",
      "\u001b[38;2;0;0;0m\u001b[48;2;255;224;224mき\u001b[0m\u001b[38;2;0;0;0m\u001b[48;2;255;254;254mっと\u001b[0m\n",
      "Kitto\n",
      "\u001b[38;2;0;0;0m\u001b[48;2;255;117;117m人\u001b[0m\u001b[38;2;0;0;0m\u001b[48;2;255;251;251m生\u001b[0m\u001b[38;2;0;0;0m\u001b[48;2;255;165;165m最\u001b[0m\u001b[38;2;0;0;0m\u001b[48;2;255;248;248m高\u001b[0m\u001b[38;2;0;0;0m\u001b[48;2;255;241;241mの\u001b[0m\u001b[38;2;0;0;0m\u001b[48;2;255;251;251m日\u001b[0m\u001b[38;2;0;0;0m\u001b[48;2;255;240;240mを\u001b[0m\u001b[38;2;0;0;0m\u001b[48;2;255;203;203m前\u001b[0m\u001b[38;2;0;0;0m\u001b[48;2;255;254;254mに\u001b[0m\u001b[38;2;0;0;0m\u001b[48;2;255;219;219m思\u001b[0m\u001b[38;2;0;0;0m\u001b[48;2;255;253;253mう\u001b[0m\u001b[38;2;0;0;0m\u001b[48;2;255;253;253mの\u001b[0m\u001b[38;2;0;0;0m\u001b[48;2;255;229;229mだ\u001b[0m\u001b[38;2;0;0;0m\u001b[48;2;255;172;172mろう\u001b[0m\n",
      "Jinsei saikou no hi wo mae ni omou no darou\n",
      "\u001b[38;2;0;0;0m\u001b[48;2;255;182;182m全部\u001b[0m\u001b[38;2;0;0;0m\u001b[48;2;255;111;111m全部\u001b[0m\u001b[38;2;0;0;0m\u001b[48;2;255;150;150m痛\u001b[0m\u001b[38;2;0;0;0m\u001b[48;2;255;158;158mい\u001b[0m\u001b[38;2;0;0;0m\u001b[48;2;255;112;112mの\u001b[0m\u001b[38;2;0;0;0m\u001b[48;2;255;232;232mです\u001b[0m\u001b[38;2;0;0;0m\u001b[48;2;255;252;252mけど\u001b[0m\n",
      "Zenbu zenbu itai no desukedo\n",
      "\u001b[38;2;0;0;0m\u001b[48;2;255;117;117mああ、\u001b[0m\u001b[38;2;0;0;0m\u001b[48;2;255;90;90mいつ\u001b[0m\u001b[38;2;0;0;0m\u001b[48;2;255;247;247mか\u001b[0m\n",
      "Aa, itsu ka\n",
      "\u001b[38;2;0;0;0m\u001b[48;2;255;160;160m人\u001b[0m\u001b[38;2;0;0;0m\u001b[48;2;255;253;253m生\u001b[0m\u001b[38;2;0;0;0m\u001b[48;2;255;243;243m最\u001b[0m\u001b[38;2;0;0;0m\u001b[48;2;255;253;253m高\u001b[0m\u001b[38;2;0;0;0m\u001b[48;2;255;254;254mの\u001b[0m\u001b[38;2;0;0;0m\u001b[48;2;255;254;254m日\u001b[0m\n",
      "Jinsei saikou no hi\n",
      "\u001b[38;2;0;0;0m\u001b[48;2;255;114;114m君\u001b[0m\u001b[38;2;0;0;0m\u001b[48;2;255;253;253mが\u001b[0m\u001b[38;2;0;0;0m\u001b[48;2;255;236;236mい\u001b[0m\u001b[38;2;0;0;0m\u001b[48;2;255;254;254mない\u001b[0m\u001b[38;2;0;0;0m\u001b[48;2;255;215;215mこと\u001b[0m\u001b[38;2;0;0;0m\u001b[48;2;255;124;124mを\u001b[0m\n",
      "Kimi ga inai koto wo\n",
      "\u001b[38;2;0;0;0m\u001b[48;2;255;248;248mも\u001b[0m\u001b[38;2;0;0;0m\u001b[48;2;255;254;254mっと\u001b[0m\u001b[38;2;0;0;0m\u001b[48;2;255;161;161mも\u001b[0m\u001b[38;2;0;0;0m\u001b[48;2;255;254;254mっと\u001b[0m\u001b[38;2;0;0;0m\u001b[48;2;255;248;248mも\u001b[0m\u001b[38;2;0;0;0m\u001b[48;2;255;254;254mっと\u001b[0m\n",
      "Motto motto motto\n",
      "\u001b[38;2;0;0;0m\u001b[48;2;255;241;241mも\u001b[0m\u001b[38;2;0;0;0m\u001b[48;2;255;254;254mっと\u001b[0m\u001b[38;2;0;0;0m\u001b[48;2;255;188;188mちゃん\u001b[0m\u001b[38;2;0;0;0m\u001b[48;2;255;254;254mと\u001b[0m\u001b[38;2;0;0;0m\u001b[48;2;255;226;226m言\u001b[0m\u001b[38;2;0;0;0m\u001b[48;2;255;254;254mって\u001b[0m\n",
      "Motto chanto itte\n",
      "\u001b[38;2;0;0;0m\u001b[48;2;255;0;0m【\u001b[0m\u001b[38;2;0;0;0m\u001b[48;2;255;17;17m歌\u001b[0m\u001b[38;2;0;0;0m\u001b[48;2;255;115;115m】\u001b[0m\n",
      "[uta]\n",
      "\u001b[38;2;0;0;0m\u001b[48;2;255;26;26mあの\u001b[0m\u001b[38;2;0;0;0m\u001b[48;2;255;245;245mね\u001b[0m\n",
      "Ano ne\n",
      "\u001b[38;2;0;0;0m\u001b[48;2;255;95;95m空\u001b[0m\u001b[38;2;0;0;0m\u001b[48;2;255;253;253mが\u001b[0m\u001b[38;2;0;0;0m\u001b[48;2;255;202;202m青\u001b[0m\u001b[38;2;0;0;0m\u001b[48;2;255;254;254mい\u001b[0m\u001b[38;2;0;0;0m\u001b[48;2;255;249;249mの\u001b[0m\u001b[38;2;0;0;0m\u001b[48;2;255;247;247mって\u001b[0m\u001b[38;2;0;0;0m\u001b[48;2;255;223;223mどう\u001b[0m\u001b[38;2;0;0;0m\u001b[48;2;255;253;253mやって\u001b[0m\n",
      "Sora ga aoi no tte dou yatte\n",
      "\u001b[38;2;0;0;0m\u001b[48;2;255;245;245m伝\u001b[0m\u001b[38;2;0;0;0m\u001b[48;2;255;252;252mえ\u001b[0m\u001b[38;2;0;0;0m\u001b[48;2;255;253;253mれ\u001b[0m\u001b[38;2;0;0;0m\u001b[48;2;255;248;248mば\u001b[0m\u001b[38;2;0;0;0m\u001b[48;2;255;231;231mいい\u001b[0m\u001b[38;2;0;0;0m\u001b[48;2;255;252;252mんだ\u001b[0m\u001b[38;2;0;0;0m\u001b[48;2;255;242;242mろう\u001b[0m\u001b[38;2;0;0;0m\u001b[48;2;255;253;253mね\u001b[0m\n",
      "Tsutaereba ii n darou ne\n",
      "\u001b[38;2;0;0;0m\u001b[48;2;255;237;237m夜\u001b[0m\u001b[38;2;0;0;0m\u001b[48;2;255;243;243mの\u001b[0m\u001b[38;2;0;0;0m\u001b[48;2;255;141;141m 雲\u001b[0m\u001b[38;2;0;0;0m\u001b[48;2;255;254;254mが\u001b[0m\u001b[38;2;0;0;0m\u001b[48;2;255;253;253m 高\u001b[0m\u001b[38;2;0;0;0m\u001b[48;2;255;254;254mい\u001b[0m\u001b[38;2;0;0;0m\u001b[48;2;255;201;201mの\u001b[0m\u001b[38;2;0;0;0m\u001b[48;2;255;250;250mって\u001b[0m\u001b[38;2;0;0;0m\u001b[48;2;255;219;219mどう\u001b[0m\u001b[38;2;0;0;0m\u001b[48;2;255;253;253mす\u001b[0m\u001b[38;2;0;0;0m\u001b[48;2;255;254;254mれ\u001b[0m\u001b[38;2;0;0;0m\u001b[48;2;255;252;252mば\u001b[0m\n",
      "Yoru no kumo ga takai no tte dou sureba\n",
      "\u001b[38;2;0;0;0m\u001b[48;2;255;84;84m君\u001b[0m\u001b[38;2;0;0;0m\u001b[48;2;255;251;251mも\u001b[0m\u001b[38;2;0;0;0m\u001b[48;2;255;177;177mわか\u001b[0m\u001b[38;2;0;0;0m\u001b[48;2;255;254;254mる\u001b[0m\u001b[38;2;0;0;0m\u001b[48;2;255;250;250mんだ\u001b[0m\u001b[38;2;0;0;0m\u001b[48;2;255;247;247mろう\u001b[0m\u001b[38;2;0;0;0m\u001b[48;2;255;228;228m 言\u001b[0m\u001b[38;2;0;0;0m\u001b[48;2;255;254;254mって\u001b[0m\n",
      "Kimi mo wakaru n darou itte\n",
      "\u001b[38;2;0;0;0m\u001b[48;2;255;47;47mあの\u001b[0m\u001b[38;2;0;0;0m\u001b[48;2;255;245;245mね\u001b[0m\u001b[38;2;0;0;0m\u001b[48;2;255;195;195m 私\u001b[0m\u001b[38;2;0;0;0m\u001b[48;2;255;253;253m 実\u001b[0m\u001b[38;2;0;0;0m\u001b[48;2;255;254;254mは\u001b[0m\u001b[38;2;0;0;0m\u001b[48;2;255;74;74m分\u001b[0m\u001b[38;2;0;0;0m\u001b[48;2;255;250;250mか\u001b[0m\u001b[38;2;0;0;0m\u001b[48;2;255;248;248mってる\u001b[0m\u001b[38;2;0;0;0m\u001b[48;2;255;254;254mの\u001b[0m\u001b[38;2;0;0;0m\u001b[48;2;255;253;253m もう\u001b[0m\u001b[38;2;0;0;0m\u001b[48;2;255;209;209m君\u001b[0m\u001b[38;2;0;0;0m\u001b[48;2;255;254;254mが\u001b[0m\u001b[38;2;0;0;0m\u001b[48;2;255;239;239m言\u001b[0m\u001b[38;2;0;0;0m\u001b[48;2;255;254;254mった\u001b[0m\u001b[38;2;0;0;0m\u001b[48;2;255;219;219mこと\u001b[0m\n",
      "Ano ne watakushi jitsu wa wakatteru no mou kimi ga itta koto\n",
      "\u001b[38;2;0;0;0m\u001b[48;2;255;218;218mあの\u001b[0m\u001b[38;2;0;0;0m\u001b[48;2;255;254;254mね\u001b[0m\u001b[38;2;0;0;0m\u001b[48;2;255;203;203m わ\u001b[0m\u001b[38;2;0;0;0m\u001b[48;2;255;254;254mから\u001b[0m\u001b[38;2;0;0;0m\u001b[48;2;255;221;221mず\u001b[0m\u001b[38;2;0;0;0m\u001b[48;2;255;125;125mや\u001b[0m\u001b[38;2;0;0;0m\u001b[48;2;255;216;216mって\u001b[0m\u001b[38;2;0;0;0m\u001b[48;2;255;237;237m言\u001b[0m\u001b[38;2;0;0;0m\u001b[48;2;255;253;253mうん\u001b[0m\u001b[38;2;0;0;0m\u001b[48;2;255;254;254mだ\u001b[0m\u001b[38;2;0;0;0m\u001b[48;2;255;172;172mろう\u001b[0m\u001b[38;2;0;0;0m\u001b[48;2;255;254;254mね\u001b[0m\u001b[38;2;0;0;0m\u001b[48;2;255;252;252m 忘\u001b[0m\u001b[38;2;0;0;0m\u001b[48;2;255;226;226mれ\u001b[0m\u001b[38;2;0;0;0m\u001b[48;2;255;254;254mたい\u001b[0m\u001b[38;2;0;0;0m\u001b[48;2;255;253;253mんだ\u001b[0m\u001b[38;2;0;0;0m\u001b[48;2;255;254;254mけど\u001b[0m\n",
      "Ano ne wakarazu yatte iu n darou ne wasuretai n dakedo\n",
      "\u001b[38;2;0;0;0m\u001b[48;2;255;203;203mも\u001b[0m\u001b[38;2;0;0;0m\u001b[48;2;255;254;254mっと\u001b[0m\u001b[38;2;0;0;0m\u001b[48;2;255;245;245mちゃん\u001b[0m\u001b[38;2;0;0;0m\u001b[48;2;255;254;254mと\u001b[0m\u001b[38;2;0;0;0m\u001b[48;2;255;244;244m言\u001b[0m\u001b[38;2;0;0;0m\u001b[48;2;255;254;254mって\u001b[0m\u001b[38;2;0;0;0m\u001b[48;2;255;253;253mよ\u001b[0m\u001b[38;2;0;0;0m\u001b[48;2;255;238;238m 忘\u001b[0m\u001b[38;2;0;0;0m\u001b[48;2;255;246;246mれない\u001b[0m\u001b[38;2;0;0;0m\u001b[48;2;255;183;183mよ\u001b[0m\u001b[38;2;0;0;0m\u001b[48;2;255;156;156mメ\u001b[0m\u001b[38;2;0;0;0m\u001b[48;2;255;251;251mモ\u001b[0m\u001b[38;2;0;0;0m\u001b[48;2;255;254;254mに\u001b[0m\u001b[38;2;0;0;0m\u001b[48;2;255;254;254mして\u001b[0m\u001b[38;2;0;0;0m\u001b[48;2;255;253;253mよ\u001b[0m\n",
      "Motto chanto itte yo wasurenai yo memo ni shite yo\n",
      "\u001b[38;2;0;0;0m\u001b[48;2;255;150;150m明\u001b[0m\u001b[38;2;0;0;0m\u001b[48;2;255;254;254m日\u001b[0m\u001b[38;2;0;0;0m\u001b[48;2;255;113;113m10\u001b[0m\u001b[38;2;0;0;0m\u001b[48;2;255;253;253m時\u001b[0m\u001b[38;2;0;0;0m\u001b[48;2;255;247;247mに\u001b[0m\u001b[38;2;0;0;0m\u001b[48;2;255;241;241mホ\u001b[0m\u001b[38;2;0;0;0m\u001b[48;2;255;254;254mーム\u001b[0m\u001b[38;2;0;0;0m\u001b[48;2;255;252;252mで\u001b[0m\u001b[38;2;0;0;0m\u001b[48;2;255;211;211m待\u001b[0m\u001b[38;2;0;0;0m\u001b[48;2;255;253;253mち\u001b[0m\u001b[38;2;0;0;0m\u001b[48;2;255;249;249m合\u001b[0m\u001b[38;2;0;0;0m\u001b[48;2;255;238;238mわ\u001b[0m\u001b[38;2;0;0;0m\u001b[48;2;255;127;127mせ\u001b[0m\u001b[38;2;0;0;0m\u001b[48;2;255;217;217mとか\u001b[0m\u001b[38;2;0;0;0m\u001b[48;2;255;253;253mし\u001b[0m\u001b[38;2;0;0;0m\u001b[48;2;255;247;247mよう\u001b[0m\n",
      "Asu 10 ji ni hoomu de machiawase to ka shiyou\n",
      "\u001b[38;2;0;0;0m\u001b[48;2;255;219;219m歌\u001b[0m\u001b[38;2;0;0;0m\u001b[48;2;255;124;124mうわ\u001b[0m\u001b[38;2;0;0;0m\u001b[48;2;255;133;133mじ\u001b[0m\u001b[38;2;0;0;0m\u001b[48;2;255;253;253mって\u001b[0m\u001b[38;2;0;0;0m\u001b[48;2;255;248;248mも\u001b[0m\u001b[38;2;0;0;0m\u001b[48;2;255;199;199m花\u001b[0m\u001b[38;2;0;0;0m\u001b[48;2;255;245;245mだ\u001b[0m\n",
      "Utau wa jitte mo hana da\n",
      "\u001b[38;2;0;0;0m\u001b[48;2;255;217;217m夏\u001b[0m\u001b[38;2;0;0;0m\u001b[48;2;255;234;234mが\u001b[0m\u001b[38;2;0;0;0m\u001b[48;2;255;163;163m去\u001b[0m\u001b[38;2;0;0;0m\u001b[48;2;255;254;254mって\u001b[0m\u001b[38;2;0;0;0m\u001b[48;2;255;253;253mも\u001b[0m\u001b[38;2;0;0;0m\u001b[48;2;255;73;73m水\u001b[0m\u001b[38;2;0;0;0m\u001b[48;2;255;111;111m墨\u001b[0m\u001b[38;2;0;0;0m\u001b[48;2;255;223;223mは\u001b[0m\u001b[38;2;0;0;0m\u001b[48;2;255;88;88m切\u001b[0m\u001b[38;2;0;0;0m\u001b[48;2;255;127;127mな\u001b[0m\n",
      "Natsu ga satte mo suiboku wa setsu na\n",
      "\u001b[38;2;0;0;0m\u001b[48;2;255;125;125m口\u001b[0m\u001b[38;2;0;0;0m\u001b[48;2;255;171;171mに\u001b[0m\u001b[38;2;0;0;0m\u001b[48;2;255;217;217m出\u001b[0m\u001b[38;2;0;0;0m\u001b[48;2;255;253;253mして\u001b[0m\n",
      "Kuchi ni dashite\n",
      "\u001b[38;2;0;0;0m\u001b[48;2;255;243;243m恋\u001b[0m\u001b[38;2;0;0;0m\u001b[48;2;255;252;252mに\u001b[0m\u001b[38;2;0;0;0m\u001b[48;2;255;249;249m出\u001b[0m\u001b[38;2;0;0;0m\u001b[48;2;255;254;254mして\u001b[0m\n",
      "Koi ni dashite\n",
      "\u001b[38;2;0;0;0m\u001b[48;2;255;224;224m君\u001b[0m\u001b[38;2;0;0;0m\u001b[48;2;255;252;252mが\u001b[0m\u001b[38;2;0;0;0m\u001b[48;2;255;225;225m言\u001b[0m\u001b[38;2;0;0;0m\u001b[48;2;255;254;254mって\u001b[0m\n",
      "Kimi ga itte\n",
      "\u001b[38;2;0;0;0m\u001b[48;2;255;222;222mそして\u001b[0m\u001b[38;2;0;0;0m\u001b[48;2;255;195;195m人\u001b[0m\u001b[38;2;0;0;0m\u001b[48;2;255;254;254m生\u001b[0m\u001b[38;2;0;0;0m\u001b[48;2;255;181;181m最\u001b[0m\u001b[38;2;0;0;0m\u001b[48;2;255;247;247m高\u001b[0m\u001b[38;2;0;0;0m\u001b[48;2;255;254;254mの\u001b[0m\u001b[38;2;0;0;0m\u001b[48;2;255;252;252m日\u001b[0m\n",
      "Soshite jinsei saikou no hi\n",
      "\u001b[38;2;0;0;0m\u001b[48;2;255;194;194m君\u001b[0m\u001b[38;2;0;0;0m\u001b[48;2;255;254;254mが\u001b[0m\u001b[38;2;0;0;0m\u001b[48;2;255;250;250m見\u001b[0m\u001b[38;2;0;0;0m\u001b[48;2;255;252;252mえる\u001b[0m\u001b[38;2;0;0;0m\u001b[48;2;255;254;254mの\u001b[0m\u001b[38;2;0;0;0m\u001b[48;2;255;254;254mなら\u001b[0m\n",
      "Kimi ga mieru no nara\n",
      "\u001b[38;2;0;0;0m\u001b[48;2;255;129;129mき\u001b[0m\u001b[38;2;0;0;0m\u001b[48;2;255;254;254mっと\u001b[0m\u001b[38;2;0;0;0m\u001b[48;2;255;249;249m 人\u001b[0m\u001b[38;2;0;0;0m\u001b[48;2;255;253;253m生\u001b[0m\u001b[38;2;0;0;0m\u001b[48;2;255;175;175m最後\u001b[0m\u001b[38;2;0;0;0m\u001b[48;2;255;254;254mの\u001b[0m\u001b[38;2;0;0;0m\u001b[48;2;255;253;253m日\u001b[0m\u001b[38;2;0;0;0m\u001b[48;2;255;184;184mも\u001b[0m\u001b[38;2;0;0;0m\u001b[48;2;255;190;190m愛\u001b[0m\u001b[38;2;0;0;0m\u001b[48;2;255;254;254mを\u001b[0m\u001b[38;2;0;0;0m\u001b[48;2;255;159;159m歌\u001b[0m\u001b[38;2;0;0;0m\u001b[48;2;255;253;253mう\u001b[0m\u001b[38;2;0;0;0m\u001b[48;2;255;253;253mの\u001b[0m\u001b[38;2;0;0;0m\u001b[48;2;255;254;254mだ\u001b[0m\u001b[38;2;0;0;0m\u001b[48;2;255;238;238mろう\u001b[0m\n",
      "Kitto jinsei saigo no hi mo ai wo utau no darou\n",
      "\u001b[38;2;0;0;0m\u001b[48;2;255;185;185m全部\u001b[0m\u001b[38;2;0;0;0m\u001b[48;2;255;250;250m 全部\u001b[0m\u001b[38;2;0;0;0m\u001b[48;2;255;82;82m 見\u001b[0m\u001b[38;2;0;0;0m\u001b[48;2;255;103;103m出\u001b[0m\u001b[38;2;0;0;0m\u001b[48;2;255;211;211mせ\u001b[0m\u001b[38;2;0;0;0m\u001b[48;2;255;251;251mな\u001b[0m\u001b[38;2;0;0;0m\u001b[48;2;255;254;254mかった\u001b[0m\u001b[38;2;0;0;0m\u001b[48;2;255;217;217mって\u001b[0m\u001b[38;2;0;0;0m\u001b[48;2;255;240;240m言\u001b[0m\u001b[38;2;0;0;0m\u001b[48;2;255;253;253mう\u001b[0m\u001b[38;2;0;0;0m\u001b[48;2;255;254;254mから\u001b[0m\n",
      "Zenbu zenbu miidasenakatta tte yuukara\n",
      "\u001b[38;2;0;0;0m\u001b[48;2;255;89;89mああ\u001b[0m\u001b[38;2;0;0;0m\u001b[48;2;255;155;155m い\u001b[0m\u001b[38;2;0;0;0m\u001b[48;2;255;198;198mつ\u001b[0m\u001b[38;2;0;0;0m\u001b[48;2;255;247;247mか\u001b[0m\u001b[38;2;0;0;0m\u001b[48;2;255;254;254m 人\u001b[0m\u001b[38;2;0;0;0m\u001b[48;2;255;254;254m生\u001b[0m\u001b[38;2;0;0;0m\u001b[48;2;255;250;250m最後\u001b[0m\u001b[38;2;0;0;0m\u001b[48;2;255;254;254mの\u001b[0m\u001b[38;2;0;0;0m\u001b[48;2;255;254;254m日\u001b[0m\n",
      "Aa itsu ka jinsei saigo no hi\n",
      "\u001b[38;2;0;0;0m\u001b[48;2;255;179;179m君\u001b[0m\u001b[38;2;0;0;0m\u001b[48;2;255;112;112mみたい\u001b[0m\u001b[38;2;0;0;0m\u001b[48;2;255;134;134mない\u001b[0m\u001b[38;2;0;0;0m\u001b[48;2;255;199;199mこと\u001b[0m\u001b[38;2;0;0;0m\u001b[48;2;255;253;253mが\u001b[0m\u001b[38;2;0;0;0m\u001b[48;2;255;35;35m ま\u001b[0m\u001b[38;2;0;0;0m\u001b[48;2;255;254;254mだ\u001b[0m\u001b[38;2;0;0;0m\u001b[48;2;255;233;233m信\u001b[0m\u001b[38;2;0;0;0m\u001b[48;2;255;254;254mじ\u001b[0m\u001b[38;2;0;0;0m\u001b[48;2;255;254;254mら\u001b[0m\u001b[38;2;0;0;0m\u001b[48;2;255;254;254mれない\u001b[0m\u001b[38;2;0;0;0m\u001b[48;2;255;253;253mけど\u001b[0m\n",
      "Kimi mitai nai koto ga mada shinjirarenaikedo\n",
      "\u001b[38;2;0;0;0m\u001b[48;2;255;233;233mも\u001b[0m\u001b[38;2;0;0;0m\u001b[48;2;255;254;254mっと\u001b[0m\u001b[38;2;0;0;0m\u001b[48;2;255;128;128m も\u001b[0m\u001b[38;2;0;0;0m\u001b[48;2;255;254;254mっと\u001b[0m\u001b[38;2;0;0;0m\u001b[48;2;255;197;197m も\u001b[0m\u001b[38;2;0;0;0m\u001b[48;2;255;254;254mっと\u001b[0m\n",
      "Motto motto motto\n",
      "\u001b[38;2;0;0;0m\u001b[48;2;255;127;127mも\u001b[0m\u001b[38;2;0;0;0m\u001b[48;2;255;254;254mっと\u001b[0m\u001b[38;2;0;0;0m\u001b[48;2;255;211;211m も\u001b[0m\u001b[38;2;0;0;0m\u001b[48;2;255;254;254mっと\u001b[0m\u001b[38;2;0;0;0m\u001b[48;2;255;100;100m も\u001b[0m\u001b[38;2;0;0;0m\u001b[48;2;255;254;254mっと\u001b[0m\n",
      "Motto motto motto\n",
      "\u001b[38;2;0;0;0m\u001b[48;2;255;186;186m君\u001b[0m\u001b[38;2;0;0;0m\u001b[48;2;255;250;250mが\u001b[0m\u001b[38;2;0;0;0m\u001b[48;2;255;121;121m も\u001b[0m\u001b[38;2;0;0;0m\u001b[48;2;255;254;254mっと\u001b[0m\u001b[38;2;0;0;0m\u001b[48;2;255;190;190m も\u001b[0m\u001b[38;2;0;0;0m\u001b[48;2;255;254;254mっと\u001b[0m\u001b[38;2;0;0;0m\u001b[48;2;255;234;234m も\u001b[0m\u001b[38;2;0;0;0m\u001b[48;2;255;254;254mっと\u001b[0m\u001b[38;2;0;0;0m\u001b[48;2;255;125;125m も\u001b[0m\u001b[38;2;0;0;0m\u001b[48;2;255;254;254mっと\u001b[0m\u001b[38;2;0;0;0m\u001b[48;2;255;96;96m も\u001b[0m\u001b[38;2;0;0;0m\u001b[48;2;255;254;254mっと\u001b[0m\n",
      "Kimi ga motto motto motto motto motto\n",
      "\u001b[38;2;0;0;0m\u001b[48;2;255;165;165mちゃん\u001b[0m\u001b[38;2;0;0;0m\u001b[48;2;255;254;254mと\u001b[0m\u001b[38;2;0;0;0m\u001b[48;2;255;239;239m 言\u001b[0m\u001b[38;2;0;0;0m\u001b[48;2;255;254;254mって\u001b[0m\n",
      "Chanto itte\n"
     ]
    }
   ],
   "source": [
    "for idx, seg in enumerate(rdict['segments']):\n",
    "    for word in seg['words']:\n",
    "        p = int(255*float(word['probability']))\n",
    "        print(rgbtxt((0,0,0),(255,p,p),word['word']), end='')\n",
    "    print()\n",
    "    print(romaji_list[idx])"
   ]
  }
 ],
 "metadata": {
  "kernelspec": {
   "display_name": "base",
   "language": "python",
   "name": "python3"
  },
  "language_info": {
   "codemirror_mode": {
    "name": "ipython",
    "version": 3
   },
   "file_extension": ".py",
   "mimetype": "text/x-python",
   "name": "python",
   "nbconvert_exporter": "python",
   "pygments_lexer": "ipython3",
   "version": "3.9.19"
  }
 },
 "nbformat": 4,
 "nbformat_minor": 2
}
