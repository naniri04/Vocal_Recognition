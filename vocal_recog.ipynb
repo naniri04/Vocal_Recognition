{
 "cells": [
  {
   "cell_type": "code",
   "execution_count": 5,
   "metadata": {},
   "outputs": [],
   "source": [
    "from spleeter.separator import Separator\n",
    "import os\n",
    "import speech_recognition as sr\n",
    "from janome.tokenizer import Tokenizer\n",
    "from googletrans import Translator"
   ]
  },
  {
   "cell_type": "code",
   "execution_count": 12,
   "metadata": {},
   "outputs": [],
   "source": [
    "# 음원 파일 경로와 출력 디렉토리 설정\n",
    "song_name = 'telecaster'\n",
    "input_audio_file = '../../mfvr/target/' + song_name + '.mp3'  # 분리할 음원 파일 경로\n",
    "output_directory = '../../mfvr/result'  # 출력 디렉토리 경로"
   ]
  },
  {
   "cell_type": "code",
   "execution_count": 13,
   "metadata": {},
   "outputs": [
    {
     "name": "stdout",
     "output_type": "stream",
     "text": [
      "INFO:tensorflow:Using config: {'_model_dir': 'pretrained_models\\\\2stems', '_tf_random_seed': None, '_save_summary_steps': 100, '_save_checkpoints_steps': None, '_save_checkpoints_secs': 600, '_session_config': gpu_options {\n",
      "  per_process_gpu_memory_fraction: 0.7\n",
      "}\n",
      ", '_keep_checkpoint_max': 5, '_keep_checkpoint_every_n_hours': 10000, '_log_step_count_steps': 100, '_train_distribute': None, '_device_fn': None, '_protocol': None, '_eval_distribute': None, '_experimental_distribute': None, '_experimental_max_worker_delay_secs': None, '_session_creation_timeout_secs': 7200, '_checkpoint_save_graph_def': True, '_service': None, '_cluster_spec': ClusterSpec({}), '_task_type': 'worker', '_task_id': 0, '_global_id_in_cluster': 0, '_master': '', '_evaluation_master': '', '_is_chief': True, '_num_ps_replicas': 0, '_num_worker_replicas': 1}\n",
      "WARNING:tensorflow:From c:\\Users\\naniri\\anaconda3\\envs\\vocal\\lib\\site-packages\\spleeter\\separator.py:149: calling DatasetV2.from_generator (from tensorflow.python.data.ops.dataset_ops) with output_types is deprecated and will be removed in a future version.\n",
      "Instructions for updating:\n",
      "Use output_signature instead\n",
      "WARNING:tensorflow:From c:\\Users\\naniri\\anaconda3\\envs\\vocal\\lib\\site-packages\\spleeter\\separator.py:149: calling DatasetV2.from_generator (from tensorflow.python.data.ops.dataset_ops) with output_shapes is deprecated and will be removed in a future version.\n",
      "Instructions for updating:\n",
      "Use output_signature instead\n",
      "INFO:tensorflow:Calling model_fn.\n",
      "INFO:tensorflow:Apply unet for vocals_spectrogram\n",
      "WARNING:tensorflow:From c:\\Users\\naniri\\anaconda3\\envs\\vocal\\lib\\site-packages\\keras\\layers\\normalization\\batch_normalization.py:514: _colocate_with (from tensorflow.python.framework.ops) is deprecated and will be removed in a future version.\n",
      "Instructions for updating:\n",
      "Colocations handled automatically by placer.\n",
      "INFO:tensorflow:Apply unet for accompaniment_spectrogram\n",
      "INFO:tensorflow:Done calling model_fn.\n",
      "INFO:tensorflow:Graph was finalized.\n",
      "INFO:tensorflow:Restoring parameters from pretrained_models\\2stems\\model\n",
      "INFO:tensorflow:Running local_init_op.\n",
      "INFO:tensorflow:Done running local_init_op.\n"
     ]
    }
   ],
   "source": [
    "# Spleeter를 사용하여 2 스템(보컬 + 반주) 분리기 초기화\n",
    "separator = Separator('spleeter:2stems')\n",
    "\n",
    "# 음원 분리 실행\n",
    "separator.separate_to_file(input_audio_file, output_directory)"
   ]
  },
  {
   "cell_type": "code",
   "execution_count": 4,
   "metadata": {},
   "outputs": [
    {
     "name": "stdout",
     "output_type": "stream",
     "text": [
      "result2:\n",
      "{   'alternative': [   {   'confidence': 0.91843349,\n",
      "                           'transcript': '思い出すのは君の歌会はよ でも せないだ '\n",
      "                                         'どこに行ってしまったのいつも探すんだよ 思い出すのは君の歌 歌う '\n",
      "                                         '顔が鮮明だ君に似合うんだよ ずっとみたいよ でも最後に寝たいのは '\n",
      "                                         'きっともう君の夢の中 もう一度また聞かせてくれよ 聞きたいんだ '\n",
      "                                         'もっともっと言えば夢の歌どんな君がいるそう 歌い手の歌を 消えない '\n",
      "                                         'YouTube さんでさようなら 思い出すのは君が来た '\n",
      "                                         '思ってる君があんた 忘れられないんだよ だから僕が歌うよ 最後にみたいな '\n",
      "                                         '君をもう一度また聞かしてくれよ を聞きたいんだ もっと騒音 願いする '\n",
      "                                         '言えない人間の歌 止めて 君がいるの歌 体重の歌だけなのよ 先輩が異世界 '\n",
      "                                         '未来の繊細で過ぎてく君は鈍感な君へ 落ちていく 鮮明で着せたい未来を '\n",
      "                                         '繊細で過ぎてく君は鈍感な君 メモの まだ言えない夢の歌の前で '\n",
      "                                         '君がいそうだ 怪獣の歌を 消えない口ずさんでしまうをのせてまた伸ばす '\n",
      "                                         'そんな意味で変えられない本当にそんな夜に 歌上手の歌'},\n",
      "                       {   'transcript': '思い出すのは君の歌会はよ でも せないだ '\n",
      "                                         'どこに行ってしまったのいつも探すんだよ 思い出すのは君の歌 歌う '\n",
      "                                         '顔が鮮明だ君に似合うんだよ ずっとみたいよ でも最後に寝たいのは '\n",
      "                                         'きっともう君の夢の中 もう一度また聞かせてくれよ 聞きたいんだ '\n",
      "                                         'もっともっと言えば夢の歌どんな君がいるそう 歌い手の歌を 消えない '\n",
      "                                         'YouTube さんでさようなら 思い出すのは君が来た '\n",
      "                                         '思ってる君があんた 忘れられないんだよ だから僕が歌うよ 最後にみたいな '\n",
      "                                         '君をもう一度また聞かしてくれよ を聞きたいんだ もっと騒音 願いする '\n",
      "                                         '言えない人間の歌 止めて 君がいるの歌 体重の歌だけなのよ 先輩が異世界 '\n",
      "                                         '未来の繊細で過ぎてく君は鈍感な君へ 落ちていく 鮮明で着せたい未来を '\n",
      "                                         '繊細で過ぎてく君は鈍感な君 メモの まだ言えない夢の歌の前で '\n",
      "                                         '君がいそうだ 怪獣の歌を 消えない口ずさんでしまうをのせてまた伸ばす '\n",
      "                                         'そんな意味で変えられない本当にそんな夜に 歌 ワイズの歌'}],\n",
      "    'final': True}\n"
     ]
    },
    {
     "data": {
      "text/plain": [
       "'思い出すのは君の歌会はよ でも せないだ どこに行ってしまったのいつも探すんだよ 思い出すのは君の歌 歌う 顔が鮮明だ君に似合うんだよ ずっとみたいよ でも最後に寝たいのは きっともう君の夢の中 もう一度また聞かせてくれよ 聞きたいんだ もっともっと言えば夢の歌どんな君がいるそう 歌い手の歌を 消えない YouTube さんでさようなら 思い出すのは君が来た 思ってる君があんた 忘れられないんだよ だから僕が歌うよ 最後にみたいな 君をもう一度また聞かしてくれよ を聞きたいんだ もっと騒音 願いする 言えない人間の歌 止めて 君がいるの歌 体重の歌だけなのよ 先輩が異世界 未来の繊細で過ぎてく君は鈍感な君へ 落ちていく 鮮明で着せたい未来を 繊細で過ぎてく君は鈍感な君 メモの まだ言えない夢の歌の前で 君がいそうだ 怪獣の歌を 消えない口ずさんでしまうをのせてまた伸ばす そんな意味で変えられない本当にそんな夜に 歌上手の歌'"
      ]
     },
     "execution_count": 4,
     "metadata": {},
     "output_type": "execute_result"
    }
   ],
   "source": [
    "def speech_to_text(audio_file):\n",
    "    recognizer = sr.Recognizer()\n",
    "    with sr.AudioFile(audio_file) as source:\n",
    "        audio_data = recognizer.record(source)\n",
    "        text = recognizer.recognize_google(audio_data, language='ja-JP')\n",
    "        return text\n",
    "\n",
    "vocal_path = f'result/{song_name}/vocals.wav'\n",
    "text = speech_to_text(vocal_path)\n",
    "text"
   ]
  },
  {
   "cell_type": "code",
   "execution_count": 14,
   "metadata": {},
   "outputs": [
    {
     "name": "stdout",
     "output_type": "stream",
     "text": [
      "Translated(src=ja, dest=ja, text=思い出すのは君の歌会はよ でも せないだ どこに行ってしまったのいつも探すんだよ 思い出すのは君の歌 歌う 顔が鮮明だ君に似合うんだよ ずっとみたいよ でも最後に寝たいのは きっともう君の夢の中 もう一度また聞かせてくれよ 聞きたいんだ もっともっと言えば夢の歌どんな君がいるそう 歌い手の歌を 消えない YouTube さんでさようなら 思い出すのは君が来た 思ってる君があんた 忘れられないんだよ だから僕が歌うよ 最後にみたいな 君をもう一度また聞かしてくれよ を聞きたいんだ もっと騒音 願いする 言えない人間の歌 止めて 君がいるの歌 体重の歌だけなのよ 先輩が異世界 未来の繊細で過ぎてく君は鈍感な君へ 落ちていく 鮮明で着せたい未来を 繊細で過ぎてく君は鈍感な君 メモの まだ言えない夢の歌の前で 君がいそうだ 怪獣の歌を 消えない口ずさんでしまうをのせてまた伸ばす そんな意味で変えられない本当にそんな夜に 歌上手の歌, pronunciation=Omoidasu no wa kimi no utakai wa yode mo senaida doko ni itte shimatta no itsumo sagasu nda yo omoidasu no wa kimi no uta utau kao ga senmeida kimi ni niau nda yo zutto mitai yo demo saigo ni netai no wa kitto mō kimi no yume no naka mōichido mata kika sete kure yo kikitai nda motto motto ieba yume no uta don'na kimi ga iru sō utaite no uta o kienai yūchūbu-sande sayōnara omoidasu no wa kimi ga kita omotteru kimi ga anta wasure rarenai nda yo dakara boku ga utau yo saigo ni mitaina kimi o mōichido mata kikashite kure yo o kikitai nda motto sōon negai suru ienai ningen no uta tomete kimi ga iru no uta taijū no uta dakena no yo senpai ga i sekai mirai no sensaide sugite ku kimi wa donkan'na kimi e ochiteiku senmeide kisetai mirai o sensaide sugite ku kimi wa donkan'na kimi memo no mada ienai yume no uta no mae de kimi ga i-sōda kaijū no uta o kienai kuchizusande shimau o nosete mata nobasu son'na imi de kaerarenai hontōni son'na yoru ni uta jōzu no uta, extra_data=\"{'confiden...\")\n",
      "Omoidasu no wa kimi no utakai wa yode mo senaida doko ni itte shimatta no itsumo sagasu nda yo omoidasu no wa kimi no uta utau kao ga senmeida kimi ni niau nda yo zutto mitai yo demo saigo ni netai no wa kitto mō kimi no yume no naka mōichido mata kika sete kure yo kikitai nda motto motto ieba yume no uta don'na kimi ga iru sō utaite no uta o kienai yūchūbu-sande sayōnara omoidasu no wa kimi ga kita omotteru kimi ga anta wasure rarenai nda yo dakara boku ga utau yo saigo ni mitaina kimi o mōichido mata kikashite kure yo o kikitai nda motto sōon negai suru ienai ningen no uta tomete kimi ga iru no uta taijū no uta dakena no yo senpai ga i sekai mirai no sensaide sugite ku kimi wa donkan'na kimi e ochiteiku senmeide kisetai mirai o sensaide sugite ku kimi wa donkan'na kimi memo no mada ienai yume no uta no mae de kimi ga i-sōda kaijū no uta o kienai kuchizusande shimau o nosete mata nobasu son'na imi de kaerarenai hontōni son'na yoru ni uta jōzu no uta\n"
     ]
    }
   ],
   "source": [
    "def text_to_romaji(text):\n",
    "    translator = Translator()\n",
    "    # Translate Japanese text to English to get the romanization\n",
    "    translated = translator.translate(text, src='ja', dest='ja')\n",
    "    print(translated)\n",
    "    return translated.pronunciation\n",
    "\n",
    "romaji_text = text_to_romaji(text)\n",
    "print(romaji_text)"
   ]
  }
 ],
 "metadata": {
  "kernelspec": {
   "display_name": "base",
   "language": "python",
   "name": "python3"
  },
  "language_info": {
   "codemirror_mode": {
    "name": "ipython",
    "version": 3
   },
   "file_extension": ".py",
   "mimetype": "text/x-python",
   "name": "python",
   "nbconvert_exporter": "python",
   "pygments_lexer": "ipython3",
   "version": "3.7.16"
  }
 },
 "nbformat": 4,
 "nbformat_minor": 2
}
