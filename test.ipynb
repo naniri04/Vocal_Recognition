{
 "cells": [
  {
   "cell_type": "code",
   "execution_count": 1,
   "metadata": {},
   "outputs": [],
   "source": [
    "import cutlet\n",
    "import pykakasi"
   ]
  },
  {
   "cell_type": "code",
   "execution_count": 2,
   "metadata": {},
   "outputs": [],
   "source": [
    "katsu = cutlet.Cutlet(use_foreign_spelling=False)\n",
    "# katsu.add_exception('にゅ', 'nyu')"
   ]
  },
  {
   "cell_type": "code",
   "execution_count": 10,
   "metadata": {},
   "outputs": [
    {
     "data": {
      "text/plain": [
       "'horakun ga itta koto'"
      ]
     },
     "execution_count": 10,
     "metadata": {},
     "output_type": "execute_result"
    }
   ],
   "source": [
    "katsu.romaji('ほら君が言ったこと', capitalize=False)"
   ]
  },
  {
   "cell_type": "code",
   "execution_count": 14,
   "metadata": {},
   "outputs": [
    {
     "name": "stdout",
     "output_type": "stream",
     "text": [
      "明日: kana 'アシタ', hiragana 'あした', romaji: 'ashita'\n",
      "10: kana '10', hiragana '10', romaji: '10'\n",
      "時に: kana 'トキニ', hiragana 'ときに', romaji: 'tokini'\n",
      "ホーム: kana 'ホーム', hiragana 'ほーむ', romaji: 'hoomu'\n"
     ]
    }
   ],
   "source": [
    "kks = pykakasi.kakasi()\n",
    "text = \"明日10時にホーム\"\n",
    "result = kks.convert(text)\n",
    "for item in result:\n",
    "    print(\"{}: kana '{}', hiragana '{}', romaji: '{}'\".format(item['orig'], item['kana'], item['hira'], item['hepburn']))"
   ]
  },
  {
   "cell_type": "code",
   "execution_count": 21,
   "metadata": {},
   "outputs": [
    {
     "data": {
      "text/plain": [
       "[{'orig': '写真',\n",
       "  'hira': 'しゃしん',\n",
       "  'kana': 'シャシン',\n",
       "  'hepburn': 'shashin',\n",
       "  'kunrei': 'syasin',\n",
       "  'passport': 'shashin'}]"
      ]
     },
     "execution_count": 21,
     "metadata": {},
     "output_type": "execute_result"
    }
   ],
   "source": [
    "result"
   ]
  }
 ],
 "metadata": {
  "kernelspec": {
   "display_name": "vocal",
   "language": "python",
   "name": "python3"
  },
  "language_info": {
   "codemirror_mode": {
    "name": "ipython",
    "version": 3
   },
   "file_extension": ".py",
   "mimetype": "text/x-python",
   "name": "python",
   "nbconvert_exporter": "python",
   "pygments_lexer": "ipython3",
   "version": "3.9.19"
  }
 },
 "nbformat": 4,
 "nbformat_minor": 2
}
