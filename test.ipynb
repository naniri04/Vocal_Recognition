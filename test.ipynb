{
 "cells": [
  {
   "cell_type": "code",
   "execution_count": 1,
   "metadata": {},
   "outputs": [],
   "source": [
    "import cutlet\n",
    "import pykakasi"
   ]
  },
  {
   "cell_type": "code",
   "execution_count": 2,
   "metadata": {},
   "outputs": [],
   "source": [
    "katsu = cutlet.Cutlet(use_foreign_spelling=False)\n",
    "# katsu.add_exception('にゅ', 'nyu')"
   ]
  },
  {
   "cell_type": "code",
   "execution_count": 10,
   "metadata": {},
   "outputs": [
    {
     "data": {
      "text/plain": [
       "'horakun ga itta koto'"
      ]
     },
     "execution_count": 10,
     "metadata": {},
     "output_type": "execute_result"
    }
   ],
   "source": [
    "katsu.romaji('ほら君が言ったこと', capitalize=False)"
   ]
  },
  {
   "cell_type": "code",
   "execution_count": 14,
   "metadata": {},
   "outputs": [
    {
     "name": "stdout",
     "output_type": "stream",
     "text": [
      "明日: kana 'アシタ', hiragana 'あした', romaji: 'ashita'\n",
      "10: kana '10', hiragana '10', romaji: '10'\n",
      "時に: kana 'トキニ', hiragana 'ときに', romaji: 'tokini'\n",
      "ホーム: kana 'ホーム', hiragana 'ほーむ', romaji: 'hoomu'\n"
     ]
    }
   ],
   "source": [
    "kks = pykakasi.kakasi()\n",
    "text = \"明日10時にホーム\"\n",
    "result = kks.convert(text)\n",
    "for item in result:\n",
    "    print(\"{}: kana '{}', hiragana '{}', romaji: '{}'\".format(item['orig'], item['kana'], item['hira'], item['hepburn']))"
   ]
  },
  {
   "cell_type": "code",
   "execution_count": 21,
   "metadata": {},
   "outputs": [
    {
     "data": {
      "text/plain": [
       "[{'orig': '写真',\n",
       "  'hira': 'しゃしん',\n",
       "  'kana': 'シャシン',\n",
       "  'hepburn': 'shashin',\n",
       "  'kunrei': 'syasin',\n",
       "  'passport': 'shashin'}]"
      ]
     },
     "execution_count": 21,
     "metadata": {},
     "output_type": "execute_result"
    }
   ],
   "source": [
    "result"
   ]
  },
  {
   "cell_type": "code",
   "execution_count": 1,
   "metadata": {},
   "outputs": [],
   "source": [
    "import numpy as np\n",
    "\n",
    "import importlib\n",
    "import comparison as cp"
   ]
  },
  {
   "cell_type": "code",
   "execution_count": 2,
   "metadata": {},
   "outputs": [
    {
     "data": {
      "text/plain": [
       "0.0"
      ]
     },
     "execution_count": 2,
     "metadata": {},
     "output_type": "execute_result"
    }
   ],
   "source": [
    "np.zeros((3,4))[0,0]"
   ]
  },
  {
   "cell_type": "code",
   "execution_count": 18,
   "metadata": {},
   "outputs": [
    {
     "name": "stdout",
     "output_type": "stream",
     "text": [
      "8 x 10\n",
      "[[ 0.5  0.   0.   0.   0.5  0.   0.   0.5  0.   0.5]\n",
      " [ 0.   1.5  0.5  0.5  0.5  0.5 -0.  -0.   0.5 -0. ]\n",
      " [ 0.   0.5  1.5  0.5  1.   0.5  0.5 -0.  -0.   0.5]\n",
      " [ 0.   0.5  0.5  2.   2.   1.   0.5  0.5 -0.  -0. ]\n",
      " [ 0.   0.5  0.5  1.5  3.   2.   1.   0.5  0.5 -0. ]\n",
      " [ 0.  -0.   1.   0.5  2.   4.   3.   2.   1.5  0.5]\n",
      " [ 0.5 -0.  -0.   1.   1.   3.   4.5  4.   3.   2. ]\n",
      " [ 0.5  0.5 -0.  -0.   1.   2.   4.   5.   4.   4. ]]\n",
      "Maximum path sum: 5.0\n",
      "Accuracy:  0.625\n",
      "Path: [(0, 0), (1, 1), (2, 2), (3, 3), (4, 4), (5, 5), (6, 6), (7, 7)]\n"
     ]
    },
    {
     "data": {
      "image/png": "[encoded data removed]",
      "text/plain": [
       "<Figure size 640x480 with 2 Axes>"
      ]
     },
     "metadata": {},
     "output_type": "display_data"
    }
   ],
   "source": [
    "importlib.reload(cp)\n",
    "sim_mat = cp.similarity_matrix(\"antsananaribou\", 'ontinenaribuochiu')\n",
    "cp.mat_heatmap(sim_mat, cp.find_opt(sim_mat=sim_mat)[1])\n"
   ]
  }
 ],
 "metadata": {
  "kernelspec": {
   "display_name": "vocal",
   "language": "python",
   "name": "python3"
  },
  "language_info": {
   "codemirror_mode": {
    "name": "ipython",
    "version": 3
   },
   "file_extension": ".py",
   "mimetype": "text/x-python",
   "name": "python",
   "nbconvert_exporter": "python",
   "pygments_lexer": "ipython3",
   "version": "3.9.19"
  }
 },
 "nbformat": 4,
 "nbformat_minor": 2
}
