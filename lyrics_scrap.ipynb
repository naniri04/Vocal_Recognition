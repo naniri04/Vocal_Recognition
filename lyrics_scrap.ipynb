{
 "cells": [
  {
   "cell_type": "code",
   "execution_count": 10,
   "metadata": {},
   "outputs": [],
   "source": [
    "from selenium import webdriver\n",
    "from selenium.webdriver.common.by import By\n",
    "from selenium.webdriver.common.keys import Keys\n",
    "from selenium.webdriver.chrome.service import Service\n",
    "from webdriver_manager.chrome import ChromeDriverManager\n",
    "from selenium.webdriver.chrome.options import Options\n",
    "from selenium.webdriver.support.ui import WebDriverWait\n",
    "from selenium.webdriver.support import expected_conditions as EC\n",
    "import time"
   ]
  },
  {
   "cell_type": "code",
   "execution_count": 15,
   "metadata": {},
   "outputs": [],
   "source": [
    "script = \\\n",
    "\"\"\"\n",
    "let spanContentList = [[], []];\n",
    "let romajiDivs = document.querySelectorAll('div.romaji');\n",
    "for (let i = 0; i < 2; i++) {\n",
    "    romajiDivs.forEach((div) => {\n",
    "        let spanElements = div.querySelectorAll('span.r' + (i ? 'b' : 't'));\n",
    "        spanElements.forEach((span) => {\n",
    "            spanContentList[i].push(span.textContent);\n",
    "        });\n",
    "    });\n",
    "}\n",
    "return [spanContentList[0].join(''), spanContentList[1].join('')];\n",
    "\"\"\""
   ]
  },
  {
   "cell_type": "code",
   "execution_count": 20,
   "metadata": {},
   "outputs": [
    {
     "name": "stdout",
     "output_type": "stream",
     "text": [
      "https://utaten.com/lyric/ya17081710/\n",
      "itteanonewatashijitsuhakiduiterunohorakimigaittakotoamarikangaetaitoomoenakutewasuretetandakedomoumokutekinimoudoutekinimousoutekiniikitesyoudoutekinasyousoutekinasyoukyokutekinamamajadamedattandakittojinseisaigonohiwomaeniomounodarouzenbuzenbuiitarinakuteoshiikedoaaitsukajinseisaigonohikimigainaikotowomottomottomottomottochantoitteanonesoragaaoinottedouyattetsutaerebaiindarouneyorunokumogatakainottedousurebakimimowakarundarouitteanonewatashijitsuhawakatterunomoukimigaittakotoanonewakarazuyatteiundarounewasuretaindakedomottochantoitteyowasurenaiyoumemonishiteyoashitajuujinihomudemachiawasetokashiyoubotanhachittemohanadanatsugasattemotsuibohasetsudakuchinidashitekoenidashitekimigaittesoshitejinseisaigonohikimigamierunonarakittojinseisaigonohimoaiwoutaunodarouzenbuzenbumudajanakattatteiukaraaaitsukajinseisaigonohikimigainaikotogamadashinjirarenaikedomottomottomottomottomottomottomottokimigamottomottomottomottomottochantoitte\n",
      "言ってあのね私実は気付いてるのほら君がいったことあまり考えたいと思えなくて忘れてたんだけど盲目的に盲動的に妄想的に生きて衝動的な焦燥的な消極的なままじゃ駄目だったんだきっと人生最後の日を前に思うのだろう全部全部言い足りなくて惜しいけどあぁいつか人生最後の日君がいないことをもっともっともっともっとちゃんと言ってあのね空が青いのってどうやって伝えればいいんだろうね夜の雲が高いのってどうすれば君もわかるんだろう言ってあのね私実はわかってるのもう君が逝ったことあのねわからず屋って言うんだろうね忘れたいんだけどもっとちゃんと言ってよ忘れないようメモにしてよ明日十時にホムで待ち合わせとかしよう牡丹は散っても花だ夏が去っても追慕は切だ口に出して声に出して君が言ってそして人生最後の日君が見えるのならきっと人生最後の日も愛をうたうのだろう全部全部無駄じゃなかったって言うからあぁいつか人生最後の日君がいないことがまだ信じられないけどもっともっともっともっともっともっともっと君がもっともっともっともっともっとちゃんと言って\n"
     ]
    }
   ],
   "source": [
    "song_title = \"言って\"\n",
    "\n",
    "# 웹 드라이버 설정\n",
    "service = Service(ChromeDriverManager().install())\n",
    "driver = webdriver.Chrome(service=service)\n",
    "\n",
    "driver.get(\"https://utaten.com/\")\n",
    "\n",
    "title_input = driver.find_element(By.XPATH\n",
    "                                    , '//*[@id=\"layoutSearch\"]/div[1]/input')\n",
    "title_input.send_keys(song_title)\n",
    "search_button = driver.find_element(By.XPATH\n",
    "                                    , '//*[@id=\"layoutSearch\"]/div[3]/button')\n",
    "search_button.click()\n",
    "#\n",
    "lyrics_link = driver.find_element(By.XPATH\n",
    "        , '//*[@id=\"contents\"]/main/section[3]/div/table/tbody/tr[2]/td[1]/p[1]/a')\n",
    "lyrics_link.click()\n",
    "# WebDriverWait(driver, 10).until( \\\n",
    "#     EC.presence_of_element_located((By.XPATH, '//*[@id=\"contents\"]')))\n",
    "time.sleep(2)\n",
    "\n",
    "rom, jap = driver.execute_script(script)\n",
    "\n",
    "print(driver.current_url)\n",
    "print(rom)\n",
    "print(jap)\n",
    "\n",
    "driver.quit()"
   ]
  }
 ],
 "metadata": {
  "kernelspec": {
   "display_name": "vocal",
   "language": "python",
   "name": "python3"
  },
  "language_info": {
   "codemirror_mode": {
    "name": "ipython",
    "version": 3
   },
   "file_extension": ".py",
   "mimetype": "text/x-python",
   "name": "python",
   "nbconvert_exporter": "python",
   "pygments_lexer": "ipython3",
   "version": "3.9.19"
  }
 },
 "nbformat": 4,
 "nbformat_minor": 2
}
