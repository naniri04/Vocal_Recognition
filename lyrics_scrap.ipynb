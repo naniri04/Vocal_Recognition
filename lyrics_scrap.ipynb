{
 "cells": [
  {
   "cell_type": "code",
   "execution_count": 1,
   "metadata": {},
   "outputs": [],
   "source": [
    "from selenium import webdriver\n",
    "from selenium.webdriver.common.by import By\n",
    "from selenium.webdriver.common.keys import Keys\n",
    "from selenium.webdriver.chrome.service import Service\n",
    "from webdriver_manager.chrome import ChromeDriverManager\n",
    "from selenium.webdriver.chrome.options import Options\n",
    "from selenium.webdriver.support.ui import WebDriverWait\n",
    "from selenium.webdriver.support import expected_conditions as EC\n",
    "import time"
   ]
  },
  {
   "cell_type": "code",
   "execution_count": 2,
   "metadata": {},
   "outputs": [],
   "source": [
    "script = \\\n",
    "\"\"\"\n",
    "let l = [[],[]];\n",
    "let romajiDiv = document.querySelectorAll('div.romaji')[0];\n",
    "romajiDiv.childNodes.forEach((node) => {\n",
    "    if (node.nodeType === Node.TEXT_NODE && node.textContent.trim() != '') {\n",
    "        l[0].push(node.textContent.trim());\n",
    "        l[1].push(node.textContent.trim());\n",
    "    } else if (node.nodeType === Node.ELEMENT_NODE) {\n",
    "        if (node.nodeName === 'SPAN') {\n",
    "            let rb = node.querySelectorAll('.rb')[0];\n",
    "            let rt = node.querySelectorAll('.rt')[0];\n",
    "            l[0].push(rb.textContent.trim());\n",
    "            l[1].push(rt.textContent.trim());\n",
    "        } else if (node.nodeName === 'BR') {\n",
    "            l[0].push('/');\n",
    "            l[1].push('/');\n",
    "        }\n",
    "    }\n",
    "});\n",
    "return l;\n",
    "\"\"\""
   ]
  },
  {
   "cell_type": "code",
   "execution_count": 11,
   "metadata": {},
   "outputs": [
    {
     "name": "stdout",
     "output_type": "stream",
     "text": [
      "https://utaten.com/lyric/ya17081710/\n",
      "['言', 'って', '/', '/', 'あのね', '、', '私', '実', 'は', '気付', 'いてるの', '/', 'ほら', '、', '君', 'がいったこと', '/', '/', 'あまり', '考', 'えたいと', '思', 'えなくて', '/', '忘', 'れてたんだけど', '/', '/', '盲目的', 'に', '盲動', '的', 'に', '妄想的', 'に', '生', 'きて', '/', '衝動的', 'な', '焦燥', '的', 'な', '/', '消極的', 'なままじゃ', '駄目', 'だったんだ', '/', '/', 'きっと', '、', '人生', '最後', 'の', '日', 'を', '前', 'に', '思', 'うのだろう', '/', '全部', '、', '全部', '言', 'い', '足', 'りなくて', '惜', 'しいけど', '/', 'あぁ', '、', 'いつか', '人生', '最後', 'の', '日', '、', '/', '君', 'がいないことを', '/', 'もっと', '、', 'もっと', '、', 'もっと', '/', 'もっと', '、', 'ちゃんと', '言', 'って', '/', '/', 'あのね', '、', '空', 'が', '青', 'いのって', '/', 'どうやって', '伝', 'えればいいんだろうね', '/', '夜', 'の', '雲', 'が', '高', 'いのって', '/', 'どうすれば', '君', 'もわかるんだろう', '/', '/', '言', 'って', '/', '/', 'あのね', '、', '私', '実', 'はわかってるの', '/', 'もう', '君', 'が', '逝', 'ったこと', '/', '/', 'あのね', '、', 'わからず', '屋', 'って', '言', 'うんだろうね', '/', '忘', 'れたいんだけど', '/', '/', 'もっとちゃんと', '言', 'ってよ', '/', '忘', 'れないよう', 'メモ', 'にしてよ', '/', '明日', '十時', 'に', 'ホ', 'ー', 'ム', 'で', '待', 'ち', '合', 'わせとかしよう', '/', '/', '牡丹', 'は', '散', 'っても', '花', 'だ', '/', '夏', 'が', '去', 'っても', '追慕', 'は', '切', 'だ', '/', '/', '口', 'に', '出', 'して', '声', 'に', '出', 'して', '/', '君', 'が', '言', 'って', '/', '/', 'そして', '人生', '最後', 'の', '日', '、', '君', 'が', '見', 'えるのなら', '/', 'きっと', '、', '人生', '最後', 'の', '日', 'も', '愛', 'をうたうのだろう', '/', '全部', '、', '全部', '無駄', 'じゃなかったって', '言', 'うから', '/', 'あぁ', '、', 'いつか', '人生', '最後', 'の', '日', '、', '君', 'がいないことがまだ', '信', 'じられないけど', '/', '/', 'もっと', '、', 'もっと', '、', 'もっと', '、', 'もっと', '/', 'もっと', '、', 'もっと', '、', 'もっと', '、', '君', 'が', '/', 'もっと', '、', 'もっと', '、', 'もっと', '、', 'もっと', '/', 'もっと', '、', 'ちゃんと', '言', 'って', '/']\n",
      "['i', 'tte', '/', '/', 'anone', '、', 'watashi', 'jitsu', 'ha', 'kidu', 'iteruno', '/', 'hora', '、', 'kimi', 'gaittakoto', '/', '/', 'amari', 'kanga', 'etaito', 'omo', 'enakute', '/', 'wasu', 'retetandakedo', '/', '/', 'moumokuteki', 'ni', 'moudou', 'teki', 'ni', 'mousouteki', 'ni', 'i', 'kite', '/', 'syoudouteki', 'na', 'syousou', 'teki', 'na', '/', 'syoukyokuteki', 'namamaja', 'dame', 'dattanda', '/', '/', 'kitto', '、', 'jinsei', 'saigo', 'no', 'hi', 'wo', 'mae', 'ni', 'omo', 'unodarou', '/', 'zenbu', '、', 'zenbu', 'i', 'i', 'ta', 'rinakute', 'o', 'shiikedo', '/', 'aa', '、', 'itsuka', 'jinsei', 'saigo', 'no', 'hi', '、', '/', 'kimi', 'gainaikotowo', '/', 'motto', '、', 'motto', '、', 'motto', '/', 'motto', '、', 'chanto', 'i', 'tte', '/', '/', 'anone', '、', 'sora', 'ga', 'ao', 'inotte', '/', 'douyatte', 'tsuta', 'erebaiindaroune', '/', 'yoru', 'no', 'kumo', 'ga', 'taka', 'inotte', '/', 'dousureba', 'kimi', 'mowakarundarou', '/', '/', 'i', 'tte', '/', '/', 'anone', '、', 'watashi', 'jitsu', 'hawakatteruno', '/', 'mou', 'kimi', 'ga', 'i', 'ttakoto', '/', '/', 'anone', '、', 'wakarazu', 'ya', 'tte', 'i', 'undaroune', '/', 'wasu', 'retaindakedo', '/', '/', 'mottochanto', 'i', 'tteyo', '/', 'wasu', 'renaiyou', 'memo', 'nishiteyo', '/', 'ashita', 'juuji', 'ni', 'ho', 'ー', 'mu', 'de', 'ma', 'chi', 'a', 'wasetokashiyou', '/', '/', 'botan', 'ha', 'chi', 'ttemo', 'hana', 'da', '/', 'natsu', 'ga', 'sa', 'ttemo', 'tsuibo', 'ha', 'setsu', 'da', '/', '/', 'kuchi', 'ni', 'da', 'shite', 'koe', 'ni', 'da', 'shite', '/', 'kimi', 'ga', 'i', 'tte', '/', '/', 'soshite', 'jinsei', 'saigo', 'no', 'hi', '、', 'kimi', 'ga', 'mi', 'erunonara', '/', 'kitto', '、', 'jinsei', 'saigo', 'no', 'hi', 'mo', 'ai', 'woutaunodarou', '/', 'zenbu', '、', 'zenbu', 'muda', 'janakattatte', 'i', 'ukara', '/', 'aa', '、', 'itsuka', 'jinsei', 'saigo', 'no', 'hi', '、', 'kimi', 'gainaikotogamada', 'shin', 'jirarenaikedo', '/', '/', 'motto', '、', 'motto', '、', 'motto', '、', 'motto', '/', 'motto', '、', 'motto', '、', 'motto', '、', 'kimi', 'ga', '/', 'motto', '、', 'motto', '、', 'motto', '、', 'motto', '/', 'motto', '、', 'chanto', 'i', 'tte', '/']\n",
      "https://www.youtube.com/watch?v=F64yFFnZfkI\n"
     ]
    }
   ],
   "source": [
    "song_title = \"言って\"\n",
    "song_composer = \"ヨルシカ\"\n",
    "\n",
    "# 웹 드라이버 설정\n",
    "service = Service(ChromeDriverManager().install())\n",
    "driver = webdriver.Chrome(service=service)\n",
    "\n",
    "driver.get(f\"https://utaten.com/search?title={song_title}&artist_name={song_composer}&sort=popular_sort_asc\")\n",
    "\n",
    "lyrics_link = driver.find_element(By.XPATH\n",
    "        , '//*[@id=\"contents\"]/main/section[3]/div/table/tbody/tr[2]/td[1]/p[1]/a')\n",
    "lyrics_link.click()\n",
    "# WebDriverWait(driver, 10).until( \\\n",
    "#     EC.presence_of_element_located((By.XPATH, '//*[@id=\"contents\"]')))\n",
    "time.sleep(2)\n",
    "\n",
    "yt_element = driver.find_element(By.XPATH \n",
    "        ,'//*[@id=\"contents\"]/main/article/div[3]/div[1]/div/div/div[1]/div/div[4]/div/a/div/img')\n",
    "yt_link_pt = yt_element.get_attribute('src').removesuffix('/mqdefault.jpg')[-11:]\n",
    "yt_link = f'https://www.youtube.com/watch?v={yt_link_pt}'\n",
    "\n",
    "rom, jap = driver.execute_script(script)\n",
    "\n",
    "print(driver.current_url)\n",
    "print(rom)\n",
    "print(jap)\n",
    "print(yt_link)\n",
    "\n",
    "driver.quit()"
   ]
  }
 ],
 "metadata": {
  "kernelspec": {
   "display_name": "vocal",
   "language": "python",
   "name": "python3"
  },
  "language_info": {
   "codemirror_mode": {
    "name": "ipython",
    "version": 3
   },
   "file_extension": ".py",
   "mimetype": "text/x-python",
   "name": "python",
   "nbconvert_exporter": "python",
   "pygments_lexer": "ipython3",
   "version": "3.9.19"
  }
 },
 "nbformat": 4,
 "nbformat_minor": 2
}
