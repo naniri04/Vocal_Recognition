{
 "cells": [
  {
   "cell_type": "code",
   "execution_count": 1,
   "metadata": {},
   "outputs": [],
   "source": [
    "from pydub import AudioSegment\n",
    "import os"
   ]
  },
  {
   "cell_type": "code",
   "execution_count": 2,
   "metadata": {},
   "outputs": [
    {
     "name": "stdout",
     "output_type": "stream",
     "text": [
      "MP3 파일을 WAV로 변환 완료: sample.wav\n"
     ]
    }
   ],
   "source": [
    "def convert_mp3_to_wav(mp3_file, wav_file):\n",
    "    # MP3 파일 로드\n",
    "    audio = AudioSegment.from_mp3(mp3_file)\n",
    "\n",
    "    # WAV 파일로 저장\n",
    "    audio.export(wav_file, format=\"wav\")\n",
    "\n",
    "# 입력 MP3 파일 경로\n",
    "mp3_file_path = \"sample.mp3\"\n",
    "\n",
    "# 출력 WAV 파일 경로 (임시 파일로 저장할 수 있습니다)\n",
    "wav_file_path = \"sample.wav\"\n",
    "\n",
    "# MP3를 WAV로 변환\n",
    "convert_mp3_to_wav(mp3_file_path, wav_file_path)\n",
    "\n",
    "print(\"MP3 파일을 WAV로 변환 완료:\", wav_file_path)"
   ]
  }
 ],
 "metadata": {
  "kernelspec": {
   "display_name": "base",
   "language": "python",
   "name": "python3"
  },
  "language_info": {
   "codemirror_mode": {
    "name": "ipython",
    "version": 3
   },
   "file_extension": ".py",
   "mimetype": "text/x-python",
   "name": "python",
   "nbconvert_exporter": "python",
   "pygments_lexer": "ipython3",
   "version": "3.7.16"
  }
 },
 "nbformat": 4,
 "nbformat_minor": 2
}
